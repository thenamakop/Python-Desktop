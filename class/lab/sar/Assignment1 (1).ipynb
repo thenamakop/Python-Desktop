{
 "cells": [
  {
   "cell_type": "markdown",
   "id": "a0aa0218-ce46-4460-9f43-666121ca39f8",
   "metadata": {},
   "source": [
    "# Lab Assignment 1"
   ]
  },
  {
   "cell_type": "markdown",
   "id": "c5dee971-8895-4fd2-a793-0abf1cbfcf6e",
   "metadata": {},
   "source": [
    "## Variable"
   ]
  },
  {
   "cell_type": "markdown",
   "id": "ec6ca07f-6c71-41c5-9372-6b3e0a9f27d2",
   "metadata": {},
   "source": [
    "Create a variable and assign your roll number to it"
   ]
  },
  {
   "cell_type": "code",
   "execution_count": 41,
   "id": "ca891bba-23f5-499a-ae05-a8f5af6858f0",
   "metadata": {},
   "outputs": [],
   "source": [
    "sar=\"240631\""
   ]
  },
  {
   "cell_type": "raw",
   "id": "87c00e29-20e0-4758-90a5-3b3682748019",
   "metadata": {},
   "source": [
    "Create a variable contain special character(@#$%^&) and assign your unique number to it, if it gives error then change it"
   ]
  },
  {
   "cell_type": "code",
   "execution_count": 40,
   "id": "f8c22327-2f23-4c9c-8a04-becda69845c3",
   "metadata": {},
   "outputs": [],
   "source": [
    "_sar=\"240C2030269\""
   ]
  },
  {
   "cell_type": "markdown",
   "id": "290f7478-4476-4417-9a83-028bed7bf967",
   "metadata": {},
   "source": [
    "Add both variable and show result"
   ]
  },
  {
   "cell_type": "code",
   "execution_count": 42,
   "id": "d754307f-31dd-42fa-b72d-6c0f66ce5f4b",
   "metadata": {},
   "outputs": [
    {
     "name": "stdout",
     "output_type": "stream",
     "text": [
      "240631240C2030269\n"
     ]
    }
   ],
   "source": [
    "x=sar+_sar\n",
    "\n",
    "print(x)"
   ]
  },
  {
   "cell_type": "markdown",
   "id": "2bac694e-c88e-4ea2-9ead-0e606d248a6f",
   "metadata": {},
   "source": [
    "Print the type of variable you declared"
   ]
  },
  {
   "cell_type": "code",
   "execution_count": 36,
   "id": "5b6105af-1389-490e-ba19-5c5b4cd1a605",
   "metadata": {},
   "outputs": [
    {
     "name": "stdout",
     "output_type": "stream",
     "text": [
      "<class 'str'>\n"
     ]
    }
   ],
   "source": [
    "print(type(x))"
   ]
  },
  {
   "cell_type": "markdown",
   "id": "1e65e440-e6ce-4e23-ad46-94f3aa13a9b3",
   "metadata": {},
   "source": [
    "Assign your name to the first variable "
   ]
  },
  {
   "cell_type": "code",
   "execution_count": 19,
   "id": "05cb07b4-5630-4a2f-a194-c1707913e3f6",
   "metadata": {},
   "outputs": [],
   "source": [
    "a=\"saraansh\""
   ]
  },
  {
   "cell_type": "markdown",
   "id": "30a392d4-f699-4584-96d9-e875f76367e8",
   "metadata": {},
   "source": [
    "Assign your mothers name to the second variable "
   ]
  },
  {
   "cell_type": "code",
   "execution_count": 20,
   "id": "b8a73d0d-0cb0-4710-9a18-2590f6397736",
   "metadata": {},
   "outputs": [],
   "source": [
    "b=\"aarti\""
   ]
  },
  {
   "cell_type": "markdown",
   "id": "e93121b4-990d-4abb-a01e-3af95eb1eb4f",
   "metadata": {},
   "source": [
    "Now again Add both variable using + sign and show result "
   ]
  },
  {
   "cell_type": "code",
   "execution_count": 21,
   "id": "00855891-e454-40a0-b6ea-4298f6704376",
   "metadata": {},
   "outputs": [
    {
     "name": "stdout",
     "output_type": "stream",
     "text": [
      "saraanshaarti\n"
     ]
    }
   ],
   "source": [
    "x=a+b\n",
    "print(x)"
   ]
  },
  {
   "cell_type": "markdown",
   "id": "1f822d4c-9bb1-41ff-9c86-463f83821a8e",
   "metadata": {},
   "source": [
    "Take your birth date(1-31) and birth month as two variable and show its addition, substraction, multiplication, division and mod opertator"
   ]
  },
  {
   "cell_type": "code",
   "execution_count": 38,
   "id": "e8d4cd0d-9e7c-4a0d-ae5a-55cb8616a525",
   "metadata": {},
   "outputs": [
    {
     "name": "stdout",
     "output_type": "stream",
     "text": [
      "36\n",
      "14\n",
      "275\n",
      "2.272727272727273\n",
      "3\n"
     ]
    }
   ],
   "source": [
    "date=25\n",
    "month=11\n",
    "print(date+month)\n",
    "print(date-month)\n",
    "print(date*month)\n",
    "print(date/month)\n",
    "print(date%month)"
   ]
  },
  {
   "cell_type": "markdown",
   "id": "cec2196b-5209-4e5e-9d54-4917a29d96ea",
   "metadata": {},
   "source": [
    "Take two boolean variable(True,False) in your name and other boolean variable as your favourite person and show the \"and\" \"or\" and \"not\" operation on these variable"
   ]
  },
  {
   "cell_type": "code",
   "execution_count": null,
   "id": "0be2402c-369b-4fdf-9bdd-a213fd693f60",
   "metadata": {},
   "outputs": [],
   "source": []
  },
  {
   "cell_type": "markdown",
   "id": "391f78fb-3298-4623-a5ad-aae9faeff49a",
   "metadata": {},
   "source": [
    "## List"
   ]
  },
  {
   "cell_type": "markdown",
   "id": "8b608fc2-0120-498c-bf93-e205bed35248",
   "metadata": {},
   "source": [
    "Create a list of all digits of your roll number"
   ]
  },
  {
   "cell_type": "code",
   "execution_count": 39,
   "id": "7d64e941-681d-4b11-b6f0-49ec86ac828d",
   "metadata": {},
   "outputs": [],
   "source": [
    "l=[2,4,0,6,3,1]"
   ]
  },
  {
   "cell_type": "markdown",
   "id": "2e50df3f-6c0b-4fa0-b696-938fe8f63f9c",
   "metadata": {},
   "source": [
    "Append the last two digits of unique id in this list"
   ]
  },
  {
   "cell_type": "code",
   "execution_count": 16,
   "id": "b26b3b35-b39b-41ec-9948-598e0048bd6a",
   "metadata": {},
   "outputs": [],
   "source": [
    "l.append(\"240C2030269)"
   ]
  },
  {
   "cell_type": "markdown",
   "id": "5172ec2f-6a2f-4321-ae87-db6ce2cf7c4b",
   "metadata": {},
   "source": [
    "Insert your name's first letter on 3rd undex of this list"
   ]
  },
  {
   "cell_type": "code",
   "execution_count": 17,
   "id": "3f03ac10-6c85-4e22-a1eb-d665d5a97fbe",
   "metadata": {},
   "outputs": [],
   "source": [
    "l[2]='r'"
   ]
  },
  {
   "cell_type": "markdown",
   "id": "bc1dd5d6-3c76-4adc-8b50-2432c73d6a1e",
   "metadata": {},
   "source": [
    "Print number using range function, the numbers shound be birth date(0-31) and added 10, ex if your birtdate is 13th feb then till 23 you have to print"
   ]
  },
  {
   "cell_type": "code",
   "execution_count": 43,
   "id": "3e6bafe4-a506-49d1-ac9f-41a9177f419c",
   "metadata": {},
   "outputs": [
    {
     "name": "stdout",
     "output_type": "stream",
     "text": [
      "range(0, 35)\n"
     ]
    }
   ],
   "source": [
    "print(range(35))"
   ]
  },
  {
   "cell_type": "markdown",
   "id": "5aed6d58-165d-4770-b232-306b8d1fa73a",
   "metadata": {},
   "source": [
    "Create a list using above range function and print it"
   ]
  },
  {
   "cell_type": "code",
   "execution_count": 44,
   "id": "2222e474-30af-4183-98b9-1b6590862ed2",
   "metadata": {},
   "outputs": [
    {
     "name": "stdout",
     "output_type": "stream",
     "text": [
      "[0, 1, 2, 3, 4, 5, 6, 7, 8, 9, 10, 11, 12, 13, 14, 15, 16, 17, 18, 19, 20, 21, 22, 23, 24, 25, 26, 27, 28, 29, 30, 31, 32, 33, 34]\n"
     ]
    }
   ],
   "source": [
    "k=list(range(35))\n",
    "print(k)"
   ]
  },
  {
   "cell_type": "markdown",
   "id": "284c6f11-4d65-427f-ab5a-579bad36c681",
   "metadata": {},
   "source": [
    "Print this list in reverse order"
   ]
  },
  {
   "cell_type": "code",
   "execution_count": 45,
   "id": "32dd6ce2-b102-46d3-8ef0-94d0cbcd6355",
   "metadata": {},
   "outputs": [
    {
     "name": "stdout",
     "output_type": "stream",
     "text": [
      "[34, 33, 32, 31, 30, 29, 28, 27, 26, 25, 24, 23, 22, 21, 20, 19, 18, 17, 16, 15, 14, 13, 12, 11, 10, 9, 8, 7, 6, 5, 4, 3, 2, 1, 0]\n"
     ]
    }
   ],
   "source": [
    "print(k[::-1])"
   ]
  },
  {
   "cell_type": "markdown",
   "id": "8941e068-dcf1-4701-bf22-23cef7d8e2fa",
   "metadata": {},
   "source": [
    "Print every third index of this list from starting till end"
   ]
  },
  {
   "cell_type": "code",
   "execution_count": 46,
   "id": "6c41ddba-1c38-430d-a219-b457f9f5421b",
   "metadata": {},
   "outputs": [
    {
     "name": "stdout",
     "output_type": "stream",
     "text": [
      "[0, 3, 6, 9, 12, 15, 18, 21, 24, 27, 30, 33]\n"
     ]
    }
   ],
   "source": [
    "print(k[::3])"
   ]
  },
  {
   "cell_type": "markdown",
   "id": "2aa51518-fa15-4973-ac81-a074b3cdb9bd",
   "metadata": {},
   "source": [
    "Print the list from fifth index till end using colon"
   ]
  },
  {
   "cell_type": "code",
   "execution_count": 47,
   "id": "6144d140-cb56-4d8d-b335-adaff8b536c7",
   "metadata": {},
   "outputs": [
    {
     "name": "stdout",
     "output_type": "stream",
     "text": [
      "[5, 6, 7, 8, 9, 10, 11, 12, 13, 14, 15, 16, 17, 18, 19, 20, 21, 22, 23, 24, 25, 26, 27, 28, 29, 30, 31, 32, 33, 34]\n"
     ]
    }
   ],
   "source": [
    "print(k[5::])"
   ]
  },
  {
   "cell_type": "markdown",
   "id": "6b3818c6-3b2c-4a57-a739-879e8f04ad92",
   "metadata": {},
   "source": [
    "Print the list from 2nd to 11th index using colon"
   ]
  },
  {
   "cell_type": "code",
   "execution_count": 48,
   "id": "5b7407bb-e95f-4555-b1c8-7a8d9c767bfd",
   "metadata": {},
   "outputs": [
    {
     "name": "stdout",
     "output_type": "stream",
     "text": [
      "[2, 3, 4, 5, 6, 7, 8, 9, 10]\n"
     ]
    }
   ],
   "source": [
    "print(k[2:11:])"
   ]
  },
  {
   "cell_type": "markdown",
   "id": "c772ba28-548e-40ee-a8f3-d857cac242a7",
   "metadata": {},
   "source": [
    "Create a list that has your roll number, unquite id , date or birth, name, parents name, your favrite fruit, cusine, and your city name"
   ]
  },
  {
   "cell_type": "code",
   "execution_count": 53,
   "id": "a4df865b-0b2b-456e-bfd6-4c41ae2f175a",
   "metadata": {},
   "outputs": [],
   "source": [
    "w=[240631, \"240C2030269\",\"Saraansh\", \"Sunit\",\"Aarti\",\"Apple\",\"Italian\",\"Faridabaad\"]"
   ]
  },
  {
   "cell_type": "markdown",
   "id": "ad390185-01ed-427c-ba47-231ba169600a",
   "metadata": {},
   "source": [
    "Print the first four letters of your parents name from the above list"
   ]
  },
  {
   "cell_type": "code",
   "execution_count": 55,
   "id": "cefc4135-d759-4be4-8214-7cd182893574",
   "metadata": {},
   "outputs": [
    {
     "name": "stdout",
     "output_type": "stream",
     "text": [
      "['Sunit', 'Aarti']\n"
     ]
    }
   ],
   "source": [
    "print(w[3:5])"
   ]
  },
  {
   "cell_type": "markdown",
   "id": "7a100586-4889-4a44-b33b-47b2eb006fd5",
   "metadata": {},
   "source": [
    "## Tuple"
   ]
  },
  {
   "cell_type": "markdown",
   "id": "f4326693-ffa3-476f-8448-7a6ae5c6c080",
   "metadata": {},
   "source": [
    "Create a tuple inserting integers of your roll number"
   ]
  },
  {
   "cell_type": "code",
   "execution_count": 33,
   "id": "819f53dc-e18a-4d52-a790-de43800f197e",
   "metadata": {},
   "outputs": [],
   "source": [
    "t=(2,4,0,6,3,1)"
   ]
  },
  {
   "cell_type": "markdown",
   "id": "6f7157a4-c494-4e69-bccd-c747aae76890",
   "metadata": {},
   "source": [
    "Insert 20 in this tuple "
   ]
  },
  {
   "cell_type": "code",
   "execution_count": 34,
   "id": "12f51fcb-8811-4450-b941-7bff34869d2a",
   "metadata": {},
   "outputs": [
    {
     "ename": "AttributeError",
     "evalue": "'tuple' object has no attribute 'append'",
     "output_type": "error",
     "traceback": [
      "\u001b[1;31m---------------------------------------------------------------------------\u001b[0m",
      "\u001b[1;31mAttributeError\u001b[0m                            Traceback (most recent call last)",
      "Cell \u001b[1;32mIn[34], line 1\u001b[0m\n\u001b[1;32m----> 1\u001b[0m t\u001b[38;5;241m.\u001b[39mappend(\u001b[38;5;241m20\u001b[39m)\n",
      "\u001b[1;31mAttributeError\u001b[0m: 'tuple' object has no attribute 'append'"
     ]
    }
   ],
   "source": [
    "t.append(20)\n",
    "#tuples are immutable"
   ]
  },
  {
   "cell_type": "markdown",
   "id": "d21b4954-1729-4f11-b1ff-737728bafa55",
   "metadata": {},
   "source": [
    "Replace third index of this tuple with number 100"
   ]
  },
  {
   "cell_type": "code",
   "execution_count": 51,
   "id": "b3d7bced-4f96-4321-aa4a-8833389a8056",
   "metadata": {},
   "outputs": [
    {
     "ename": "NameError",
     "evalue": "name 't' is not defined",
     "output_type": "error",
     "traceback": [
      "\u001b[1;31m---------------------------------------------------------------------------\u001b[0m",
      "\u001b[1;31mNameError\u001b[0m                                 Traceback (most recent call last)",
      "Cell \u001b[1;32mIn[51], line 1\u001b[0m\n\u001b[1;32m----> 1\u001b[0m \u001b[43mt\u001b[49m[\u001b[38;5;241m3\u001b[39m]\u001b[38;5;241m=\u001b[39m\u001b[38;5;241m100\u001b[39m\n\u001b[0;32m      2\u001b[0m \u001b[38;5;66;03m#tuples are immutable\u001b[39;00m\n",
      "\u001b[1;31mNameError\u001b[0m: name 't' is not defined"
     ]
    }
   ],
   "source": [
    "t[3]=100\n",
    "#tuples are immutable"
   ]
  },
  {
   "cell_type": "markdown",
   "id": "3ff324be-8f92-4b68-9ca9-064f251d6c07",
   "metadata": {},
   "source": [
    "Write the comment in next tab that errors you got while editting and tupe and reason behind them."
   ]
  },
  {
   "cell_type": "code",
   "execution_count": null,
   "id": "afaa369b-2a89-4ff1-a7b3-9be20d33e316",
   "metadata": {},
   "outputs": [],
   "source": [
    "\"\"\"AttributeError                            Traceback (most recent call last)\n",
    "Cell In[34], line 1\n",
    "----> 1 t.append(20)\n",
    "\n",
    "AttributeError: 'tuple' object has no attribute 'append'\"\"\"\n",
    "\"\"\"NameError                                 Traceback (most recent call last)\n",
    "Cell In[51], line 1\n",
    "----> 1 t[3]=100\n",
    "      2 #tuples are immutable\n",
    "\n",
    "NameError: name 't' is not defined\"\"\"\n"
   ]
  },
  {
   "cell_type": "markdown",
   "id": "4ecc6e1f-f62c-416a-b546-b09b7af9aafa",
   "metadata": {},
   "source": [
    "## Dictionaries"
   ]
  },
  {
   "cell_type": "markdown",
   "id": "8a1b7336-a832-4fa2-bdee-6034a3fd5cb6",
   "metadata": {},
   "source": [
    "Create a dictionary and write down roll number, unquite id , date or birth, name, parents name, your favrite fruit, cusine, and your city name as keys and the corresponding answers as values, creating key value pairs."
   ]
  },
  {
   "cell_type": "code",
   "execution_count": 64,
   "id": "f1213130-4914-4eef-8e40-2f8aecaf8547",
   "metadata": {},
   "outputs": [
    {
     "name": "stdout",
     "output_type": "stream",
     "text": [
      "{'roll_number': 240631, 'unique_id': '240C2030269', 'dob': 15, 'name': 'saraansh', 'father_name': 'sunit', 'mother_name': 'aarti', 'fa_fruit': 'apple', 'cuisine': 'Italian', 'city_name': 'Faridabad'}\n"
     ]
    }
   ],
   "source": [
    "my_dict={\n",
    "        'roll_number':240631,\n",
    "        'unique_id':\"240C2030269\",\n",
    "        'dob':15,\n",
    "        'name':\"saraansh\",\n",
    "        'father_name':\"sunit\",\n",
    "        'mother_name':\"aarti\",\n",
    "        'fa_fruit':\"apple\",\n",
    "        'cuisine':\"Italian\",\n",
    "        'city_name':\"Faridabad\"}\n",
    "print(my_dict)"
   ]
  },
  {
   "cell_type": "markdown",
   "id": "ba37c4fb-4764-475f-abc6-86d3f2130b63",
   "metadata": {},
   "source": [
    "Print your city name"
   ]
  },
  {
   "cell_type": "code",
   "execution_count": 66,
   "id": "46388124-3af4-4e11-971d-d1be6505da12",
   "metadata": {},
   "outputs": [
    {
     "name": "stdout",
     "output_type": "stream",
     "text": [
      "Faridabad\n"
     ]
    }
   ],
   "source": [
    "print(my_dict['city_name'])"
   ]
  },
  {
   "cell_type": "markdown",
   "id": "a687e527-2649-4dc4-a6aa-f43e86369555",
   "metadata": {},
   "source": [
    "Replace this city name with your dream destination city"
   ]
  },
  {
   "cell_type": "code",
   "execution_count": 67,
   "id": "7a859486-ecdf-409c-a35e-be3fba5842f5",
   "metadata": {},
   "outputs": [
    {
     "name": "stdout",
     "output_type": "stream",
     "text": [
      "{'roll_number': 240631, 'unique_id': '240C2030269', 'dob': 15, 'name': 'saraansh', 'father_name': 'sunit', 'mother_name': 'aarti', 'fa_fruit': 'apple', 'cuisine': 'Italian', 'city_name': 'mumbai'}\n"
     ]
    }
   ],
   "source": [
    "update_dict={'city_name':\"mumbai\"}\n",
    "my_dict.update(update_dict)\n",
    "print(my_dict)"
   ]
  },
  {
   "cell_type": "markdown",
   "id": "1e4f6bb4-ca24-4b8d-bc72-9f5137fc31c5",
   "metadata": {},
   "source": [
    "Insert a new key value pair in this dictionary as Unversity: BMU as key:value pair"
   ]
  },
  {
   "cell_type": "code",
   "execution_count": 69,
   "id": "d8322358-366d-4d53-ada2-76bab84ccf24",
   "metadata": {},
   "outputs": [
    {
     "name": "stdout",
     "output_type": "stream",
     "text": [
      "{'roll_number': 240631, 'unique_id': '240C2030269', 'dob': 15, 'name': 'saraansh', 'father_name': 'sunit', 'mother_name': 'aarti', 'fa_fruit': 'apple', 'cuisine': 'Italian', 'city_name': 'mumbai', 'University': 'BMU'}\n"
     ]
    }
   ],
   "source": [
    "my_dict[\"University\"] = \"BMU\"\n",
    "print(my_dict)"
   ]
  },
  {
   "cell_type": "markdown",
   "id": "093f5f7b-29d0-445c-841c-a033bf8d80fa",
   "metadata": {},
   "source": [
    "Delete your Unique id from this dictionary"
   ]
  },
  {
   "cell_type": "code",
   "execution_count": 70,
   "id": "c28b3298-a2ba-4dd6-8118-7178513d5eb6",
   "metadata": {},
   "outputs": [
    {
     "name": "stdout",
     "output_type": "stream",
     "text": [
      "{'roll_number': 240631, 'dob': 15, 'name': 'saraansh', 'father_name': 'sunit', 'mother_name': 'aarti', 'fa_fruit': 'apple', 'cuisine': 'Italian', 'city_name': 'mumbai', 'University': 'BMU'}\n"
     ]
    }
   ],
   "source": [
    "my_dict.pop(\"unique_id\")\n",
    "print(my_dict)"
   ]
  }
 ],
 "metadata": {
  "kernelspec": {
   "display_name": "Python 3",
   "language": "python",
   "name": "python3"
  },
  "language_info": {
   "codemirror_mode": {
    "name": "ipython",
    "version": 3
   },
   "file_extension": ".py",
   "mimetype": "text/x-python",
   "name": "python",
   "nbconvert_exporter": "python",
   "pygments_lexer": "ipython3",
   "version": "3.13.1"
  }
 },
 "nbformat": 4,
 "nbformat_minor": 5
}
