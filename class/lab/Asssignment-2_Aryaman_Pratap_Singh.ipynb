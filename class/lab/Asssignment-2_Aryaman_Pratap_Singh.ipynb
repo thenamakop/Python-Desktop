{
 "cells": [
  {
   "cell_type": "markdown",
   "id": "3c80459a-1861-4892-aa06-2e54e8416ee0",
   "metadata": {},
   "source": [
    "# Assignment - 2"
   ]
  },
  {
   "cell_type": "markdown",
   "id": "e8b74758-6b30-49ef-a2ac-79457434d714",
   "metadata": {},
   "source": [
    "#### 1. Write a Python function that takes two lists and appends all elements of the second list to the first using both append() and extend()."
   ]
  },
  {
   "cell_type": "code",
   "execution_count": 3,
   "id": "dc37877b-f515-4b3f-8388-cd24e297ff5d",
   "metadata": {},
   "outputs": [
    {
     "name": "stdout",
     "output_type": "stream",
     "text": [
      "Enter numbers of list 1 separated by spaces : 2 5 3 1 4 6\n",
      "Enter numbers of list 2 separated by spaces : 1 2\n"
     ]
    },
    {
     "name": "stdout",
     "output_type": "stream",
     "text": [
      "List after appending : [2, 5, 3, 1, 4, 6, [1, 2]]\n",
      "List after extending : [2, 5, 3, 1, 4, 6, 1, 2]\n"
     ]
    }
   ],
   "source": [
    "def appendandextend(mylist1,mylist2):\n",
    "    mylist1.append(mylist2)\n",
    "    print(\"List after appending :\",mylist1)\n",
    "    mylist1.pop()\n",
    "    mylist1.extend(mylist2)\n",
    "    print(\"List after extending :\",mylist1)\n",
    "mylist1=list(map(int,input(\"Enter numbers of list 1 separated by spaces :\").split()))\n",
    "mylist2=list(map(int,input(\"Enter numbers of list 2 separated by spaces :\").split()))\n",
    "appendandextend(mylist1, mylist2)"
   ]
  },
  {
   "cell_type": "markdown",
   "id": "e6390b07-a43a-4b4b-afd7-7a0b5a112619",
   "metadata": {},
   "source": [
    "#### 2. Given a list of numbers, insert 100 at index 2 and then remove the first occurrence of 50."
   ]
  },
  {
   "cell_type": "code",
   "execution_count": 7,
   "id": "32917b38-31ae-4b8b-bba3-24253ebabbc5",
   "metadata": {},
   "outputs": [
    {
     "name": "stdout",
     "output_type": "stream",
     "text": [
      "Enter numbers separated by spaces:  500 80 70 50 13 2 \n"
     ]
    },
    {
     "name": "stdout",
     "output_type": "stream",
     "text": [
      "Original list: [500, 80, 70, 50, 13, 2]\n",
      "After inserting 100 at index 2: [500, 80, 100, 70, 50, 13, 2]\n",
      "After removing first occurrence of 50: [500, 80, 100, 70, 13, 2]\n"
     ]
    }
   ],
   "source": [
    "def modify_list(mylist):\n",
    "    print(\"Original list:\", mylist)\n",
    "    mylist.insert(2, 100)\n",
    "    print(\"After inserting 100 at index 2:\", mylist)\n",
    "    if 50 in mylist:\n",
    "        mylist.remove(50)\n",
    "        print(\"After removing first occurrence of 50:\", mylist)\n",
    "    else:\n",
    "        print(\"50 not found in the list.\")\n",
    "mylist = list(map(int, input(\"Enter numbers separated by spaces: \").split()))\n",
    "modify_list(mylist)"
   ]
  },
  {
   "cell_type": "markdown",
   "id": "a3f3f04b-b5a1-4608-8cad-107d22fb84f7",
   "metadata": {},
   "source": [
    "#### 3. Create a list of cars. Use the pop() method to remove the last element, and then find the index of \"tata punch\" in the list."
   ]
  },
  {
   "cell_type": "code",
   "execution_count": 17,
   "id": "f16bacac-f3cb-4630-a7ff-83b35b0917c8",
   "metadata": {},
   "outputs": [
    {
     "name": "stdout",
     "output_type": "stream",
     "text": [
      "Enter car names separated by commas:  Mahindra Thar,tata punch,maruti swift,skoda kushaq,volkswagen virtus\n"
     ]
    },
    {
     "name": "stdout",
     "output_type": "stream",
     "text": [
      "After removing last element: ['Mahindra Thar', 'tata punch', 'maruti swift', 'skoda kushaq']\n",
      "Index of 'tata punch': 1\n"
     ]
    }
   ],
   "source": [
    "cars = input(\"Enter car names separated by commas: \").split(\",\")\n",
    "cars.pop()\n",
    "print(\"After removing last element:\", cars)\n",
    "if \"tata punch\" in cars:\n",
    "    index = cars.index(\"tata punch\")\n",
    "    print(\"Index of 'tata punch':\", index)\n",
    "else:\n",
    "    print(\"'tata punch' not found in the list.\")"
   ]
  },
  {
   "cell_type": "markdown",
   "id": "d042bc82-67c9-40b9-ac6c-ed31d52bfdca",
   "metadata": {},
   "source": [
    "#### 4. Write a Python program that takes a list of integers, reverses it, sorts it in ascending order, and prints both the reversed and sorted lists."
   ]
  },
  {
   "cell_type": "code",
   "execution_count": 19,
   "id": "e47c2b62-8943-4e7b-a8b2-e7ca8cc715c3",
   "metadata": {},
   "outputs": [
    {
     "name": "stdout",
     "output_type": "stream",
     "text": [
      "Enter integers separated by spaces:  5 7 10 65 3 4 -9\n"
     ]
    },
    {
     "name": "stdout",
     "output_type": "stream",
     "text": [
      "Reversed list: [-9, 4, 3, 65, 10, 7, 5]\n",
      "Sorted list: [-9, 3, 4, 5, 7, 10, 65]\n"
     ]
    }
   ],
   "source": [
    "mylist = list(map(int, input(\"Enter integers separated by spaces: \").split()))\n",
    "mylist.reverse()\n",
    "print(\"Reversed list:\", mylist)\n",
    "mylist.sort()\n",
    "print(\"Sorted list:\", mylist)"
   ]
  },
  {
   "cell_type": "markdown",
   "id": "f63a3535-1bf4-404f-bf35-6ad12ce49d63",
   "metadata": {},
   "source": [
    "#### 5. Write a Python function that takes two lists, concatenates them, and then repeats the resulting list 3 times."
   ]
  },
  {
   "cell_type": "code",
   "execution_count": 22,
   "id": "097b07d7-c4fa-4b3c-a063-1dc2754e2f29",
   "metadata": {},
   "outputs": [
    {
     "name": "stdout",
     "output_type": "stream",
     "text": [
      "Enter numbers for list1 separated by spaces:  4 7 8 9 1\n",
      "Enter numbers for list2 separated by spaces:  3 4 5 9 1\n"
     ]
    },
    {
     "name": "stdout",
     "output_type": "stream",
     "text": [
      "Final list: [4, 7, 8, 9, 1, 3, 4, 5, 9, 1, 4, 7, 8, 9, 1, 3, 4, 5, 9, 1, 4, 7, 8, 9, 1, 3, 4, 5, 9, 1]\n"
     ]
    }
   ],
   "source": [
    "def concatenate_and_repeat(list1, list2):\n",
    "    result = (list1 + list2) * 3\n",
    "    print(\"Final list:\", result)\n",
    "list1 = list(map(int, input(\"Enter numbers for list1 separated by spaces: \").split()))\n",
    "list2 = list(map(int, input(\"Enter numbers for list2 separated by spaces: \").split()))\n",
    "concatenate_and_repeat(list1, list2)"
   ]
  },
  {
   "cell_type": "markdown",
   "id": "3a474b39-4663-4ebb-9483-f921882542b9",
   "metadata": {},
   "source": [
    "#### 6. Write a function that takes a string as input, converts it to uppercase, then to lowercase, and returns both."
   ]
  },
  {
   "cell_type": "code",
   "execution_count": 24,
   "id": "e3389733-9b5f-4a21-b1cf-3d4185df82f9",
   "metadata": {},
   "outputs": [
    {
     "name": "stdout",
     "output_type": "stream",
     "text": [
      "Enter a string:  Hello World\n"
     ]
    },
    {
     "name": "stdout",
     "output_type": "stream",
     "text": [
      "Uppercase: HELLO WORLD\n",
      "Lowercase: hello world\n"
     ]
    }
   ],
   "source": [
    "def convert_case(text):\n",
    "    upper_text = text.upper()\n",
    "    lower_text = text.lower()\n",
    "    return upper_text, lower_text\n",
    "user_input = input(\"Enter a string: \")\n",
    "upper_case, lower_case = convert_case(user_input)\n",
    "print(\"Uppercase:\", upper_case)\n",
    "print(\"Lowercase:\", lower_case)"
   ]
  },
  {
   "cell_type": "markdown",
   "id": "c54a9653-9202-49f9-ad68-979fea4961a0",
   "metadata": {},
   "source": [
    "#### 7. Given a string \"Hello, world! Hello, Python!\", replace \"Hello\" with \"Hi\" and find the position of \"Python\" in the modified string."
   ]
  },
  {
   "cell_type": "code",
   "execution_count": 26,
   "id": "afc26911-b918-4fe2-b2f1-741058afe565",
   "metadata": {},
   "outputs": [
    {
     "name": "stdout",
     "output_type": "stream",
     "text": [
      "Modified string: Hi, world! Hi, Python!\n",
      "Position of 'Python': 15\n"
     ]
    }
   ],
   "source": [
    "text = \"Hello, world! Hello, Python!\"\n",
    "modified_text = text.replace(\"Hello\", \"Hi\")\n",
    "position = modified_text.find(\"Python\")\n",
    "print(\"Modified string:\", modified_text)\n",
    "print(\"Position of 'Python':\", position)"
   ]
  },
  {
   "cell_type": "markdown",
   "id": "34d67f47-dc6d-42fd-a952-7165a907cda9",
   "metadata": {},
   "source": [
    "#### 8. Write a program that takes a sentence, splits it into words, and then joins the words back using a \"-\" separator."
   ]
  },
  {
   "cell_type": "code",
   "execution_count": 28,
   "id": "cb17cd81-8b94-459a-9a6f-eb62367a0cfb",
   "metadata": {},
   "outputs": [
    {
     "name": "stdout",
     "output_type": "stream",
     "text": [
      "Enter a sentence:  Hello There General Kenobi\n"
     ]
    },
    {
     "name": "stdout",
     "output_type": "stream",
     "text": [
      "Modified sentence: Hello-There-General-Kenobi\n"
     ]
    }
   ],
   "source": [
    "sentence = input(\"Enter a sentence: \")\n",
    "words = sentence.split()\n",
    "joinedsentence = \"-\".join(words)\n",
    "print(\"Modified sentence:\", joinedsentence)"
   ]
  },
  {
   "cell_type": "markdown",
   "id": "85303e27-078b-4ad0-a490-a4dff1d031df",
   "metadata": {},
   "source": [
    " #### 9. Write a function that takes two strings, concatenates them, and then repeats the concatenated string 4 times."
   ]
  },
  {
   "cell_type": "code",
   "execution_count": 30,
   "id": "fd0d7f52-487f-457e-8c63-61f478da3471",
   "metadata": {},
   "outputs": [
    {
     "name": "stdout",
     "output_type": "stream",
     "text": [
      "Enter first string:  Python\n",
      "Enter second string:  Programming\n"
     ]
    },
    {
     "name": "stdout",
     "output_type": "stream",
     "text": [
      "Final string: PythonProgrammingPythonProgrammingPythonProgrammingPythonProgramming\n"
     ]
    }
   ],
   "source": [
    "def concatenate_and_repeat(str1, str2):\n",
    "    result = (str1 + str2) * 4\n",
    "    return result\n",
    "str1 = input(\"Enter first string: \")\n",
    "str2 = input(\"Enter second string: \")\n",
    "final_string = concatenate_and_repeat(str1, str2)\n",
    "print(\"Final string:\", final_string)"
   ]
  },
  {
   "cell_type": "markdown",
   "id": "c99559bc-13fb-413d-a578-52bca60cda6b",
   "metadata": {},
   "source": [
    "#### 10. Given the string \"PythonProgramming\", extract the substring \"Python\", \"Programming\", and print every alternate character from the full string."
   ]
  },
  {
   "cell_type": "code",
   "execution_count": 32,
   "id": "b824aa46-870a-46b7-a213-4205f5985a7b",
   "metadata": {},
   "outputs": [
    {
     "name": "stdout",
     "output_type": "stream",
     "text": [
      "Substring 1: Python\n",
      "Substring 2: Programming\n",
      "Every alternate character: PtoPormig\n"
     ]
    }
   ],
   "source": [
    "text = \"PythonProgramming\"\n",
    "substring1 = text[:6]   \n",
    "substring2 = text[6:]   \n",
    "alternate_chars = text[::2] \n",
    "print(\"Substring 1:\", substring1)\n",
    "print(\"Substring 2:\", substring2)\n",
    "print(\"Every alternate character:\", alternate_chars)"
   ]
  },
  {
   "cell_type": "markdown",
   "id": "fcb663fd-2f0f-4325-9678-d092ca165bd5",
   "metadata": {},
   "source": [
    "#### 11. Write a function that checks if a given number exists in a list. If it exists, print \"Number found\", otherwise print \"Number not found\"."
   ]
  },
  {
   "cell_type": "code",
   "execution_count": 34,
   "id": "240c5c04-c194-4b8e-9605-9f17c7079d6f",
   "metadata": {},
   "outputs": [
    {
     "name": "stdout",
     "output_type": "stream",
     "text": [
      "Enter numbers separated by spaces:  56 89 91 12 10 8\n",
      "Enter the number to search:  91\n"
     ]
    },
    {
     "name": "stdout",
     "output_type": "stream",
     "text": [
      "Number found\n"
     ]
    }
   ],
   "source": [
    "def check_number(mylist, num):\n",
    "    if num in mylist:\n",
    "        print(\"Number found\")\n",
    "    else:\n",
    "        print(\"Number not found\")\n",
    "mylist = list(map(int, input(\"Enter numbers separated by spaces: \").split()))\n",
    "num = int(input(\"Enter the number to search: \"))\n",
    "check_number(mylist, num)"
   ]
  },
  {
   "cell_type": "markdown",
   "id": "71c2c2b2-2250-4948-9e70-52e4458f988d",
   "metadata": {},
   "source": [
    "#### 12. Write a function that checks if a given list is empty. If it is, print \"List is empty\", otherwise print \"List has elements\"."
   ]
  },
  {
   "cell_type": "code",
   "execution_count": 38,
   "id": "973d4981-3ee4-441d-bb56-e5247c1b2b7e",
   "metadata": {},
   "outputs": [
    {
     "name": "stdout",
     "output_type": "stream",
     "text": [
      "Enter numbers separated by spaces : \n"
     ]
    },
    {
     "name": "stdout",
     "output_type": "stream",
     "text": [
      "List is empty\n"
     ]
    }
   ],
   "source": [
    "def check_empty(mylist):\n",
    "    if not mylist:\n",
    "        print(\"List is empty\")\n",
    "    else:\n",
    "        print(\"List has elements\")\n",
    "mylist = list(map(int, input(\"Enter numbers separated by spaces :\").split()))\n",
    "check_empty(mylist)"
   ]
  },
  {
   "cell_type": "markdown",
   "id": "885dbbb4-851f-43c8-bca0-b32e4a030ad2",
   "metadata": {},
   "source": [
    "#### 13. Given a list of numbers, use an if condition inside a loop to remove all even numbers."
   ]
  },
  {
   "cell_type": "code",
   "execution_count": 40,
   "id": "780bac99-c63c-4967-bb8b-137fbb9dcffe",
   "metadata": {},
   "outputs": [
    {
     "name": "stdout",
     "output_type": "stream",
     "text": [
      "Enter numbers separated by spaces:  56 22 1 13 57 90 91\n"
     ]
    },
    {
     "name": "stdout",
     "output_type": "stream",
     "text": [
      "List after removing even numbers: [1, 13, 57, 91]\n"
     ]
    }
   ],
   "source": [
    "mylist = list(map(int, input(\"Enter numbers separated by spaces: \").split()))\n",
    "filtered_list = []\n",
    "for num in mylist:\n",
    "    if num % 2 != 0:\n",
    "        filtered_list.append(num)\n",
    "print(\"List after removing even numbers:\", filtered_list)"
   ]
  },
  {
   "cell_type": "markdown",
   "id": "bc400e2b-beea-4ea1-ba4e-43e0eec87b99",
   "metadata": {},
   "source": [
    "#### 14. Take two lists as input. If they have the same elements in the same order, print \"Lists are identical\"; otherwise, print \"Lists are different\"."
   ]
  },
  {
   "cell_type": "code",
   "execution_count": 42,
   "id": "700de518-023f-4307-b8da-d6437a3da752",
   "metadata": {},
   "outputs": [
    {
     "name": "stdout",
     "output_type": "stream",
     "text": [
      "Enter numbers for list1 separated by spaces:  1 2 3 4 5\n",
      "Enter numbers for list2 separated by spaces:  1 2 3 5 4\n"
     ]
    },
    {
     "name": "stdout",
     "output_type": "stream",
     "text": [
      "Lists are different\n"
     ]
    }
   ],
   "source": [
    "list1 = list(map(int, input(\"Enter numbers for list1 separated by spaces: \").split()))\n",
    "list2 = list(map(int, input(\"Enter numbers for list2 separated by spaces: \").split()))\n",
    "if list1 == list2:\n",
    "    print(\"Lists are identical\")\n",
    "else:\n",
    "    print(\"Lists are different\")"
   ]
  },
  {
   "cell_type": "markdown",
   "id": "f26d69d0-2bc3-431b-bc69-36b1864a6ea9",
   "metadata": {},
   "source": [
    "#### 15. Write a function to check if a given string is a palindrome (reads the same forward and backward). If it is, print \"Palindrome\"; otherwise, print \"Not a palindrome\"."
   ]
  },
  {
   "cell_type": "code",
   "execution_count": 46,
   "id": "998f0bb9-062f-4a2a-a6c1-fcefe2df18ff",
   "metadata": {},
   "outputs": [
    {
     "name": "stdout",
     "output_type": "stream",
     "text": [
      "Enter a string:  madam\n"
     ]
    },
    {
     "name": "stdout",
     "output_type": "stream",
     "text": [
      "Palindrome\n"
     ]
    }
   ],
   "source": [
    "def is_palindrome(text):\n",
    "    if text == text[::-1]:  \n",
    "        print(\"Palindrome\")\n",
    "    else:\n",
    "        print(\"Not a palindrome\")\n",
    "user_input = input(\"Enter a string: \")\n",
    "is_palindrome(user_input)"
   ]
  },
  {
   "cell_type": "markdown",
   "id": "01b8622a-d041-4804-b296-2b08851bea4f",
   "metadata": {},
   "source": [
    "#### 16. Given a string, count the number of vowels (a, e, i, o, u). If the count is greater than 5, print \"Lots of vowels\", else print \"Few vowels\"."
   ]
  },
  {
   "cell_type": "code",
   "execution_count": 48,
   "id": "df32580b-2dce-4ae1-923a-549cbe161685",
   "metadata": {},
   "outputs": [
    {
     "name": "stdout",
     "output_type": "stream",
     "text": [
      "Enter a string:  Hello there friend\n"
     ]
    },
    {
     "name": "stdout",
     "output_type": "stream",
     "text": [
      "Lots of vowels\n"
     ]
    }
   ],
   "source": [
    "def count_vowels(text):\n",
    "    vowels = \"aeiouAEIOU\"\n",
    "    count = 0\n",
    "    for char in text:\n",
    "        if char in vowels:\n",
    "            count += 1\n",
    "    if count > 5:\n",
    "        print(\"Lots of vowels\")\n",
    "    else:\n",
    "        print(\"Few vowels\")\n",
    "user_input = input(\"Enter a string: \")\n",
    "count_vowels(user_input)"
   ]
  },
  {
   "cell_type": "markdown",
   "id": "800e065f-e295-4ee7-a45b-d7c795967a82",
   "metadata": {},
   "source": [
    "#### 17. Write a function that checks if a given string starts with a vowel. If it does, print \"Starts with a vowel\", otherwise print \"Does not start with a vowel\"."
   ]
  },
  {
   "cell_type": "code",
   "execution_count": 52,
   "id": "a3553e71-691c-40f8-8110-7ed86893d2a5",
   "metadata": {},
   "outputs": [
    {
     "name": "stdout",
     "output_type": "stream",
     "text": [
      "Enter a string:  hello\n"
     ]
    },
    {
     "name": "stdout",
     "output_type": "stream",
     "text": [
      "Does not start with a vowel\n"
     ]
    }
   ],
   "source": [
    "def check_start_vowel(text):\n",
    "    vowels = \"aeiouAEIOU\"\n",
    "    if text[0] in vowels:  # Check if the first character is a vowel\n",
    "        print(\"Starts with a vowel\")\n",
    "    else:\n",
    "        print(\"Does not start with a vowel\")\n",
    "user_input = input(\"Enter a string: \")\n",
    "check_start_vowel(user_input)"
   ]
  },
  {
   "cell_type": "markdown",
   "id": "d7a8fc51-b61d-4dbd-929e-7d11944b7e6c",
   "metadata": {},
   "source": [
    "#### 18. Take two strings as input. If they contain the same characters in a different order, print \"Anagrams\", otherwise print \"Not anagrams\"."
   ]
  },
  {
   "cell_type": "code",
   "execution_count": 54,
   "id": "9fed0ab4-d612-47aa-a3bd-23adb91c0dee",
   "metadata": {},
   "outputs": [
    {
     "name": "stdout",
     "output_type": "stream",
     "text": [
      "Enter first string:  CompuetrSceince\n",
      "Enter second string:  ComputerScience\n"
     ]
    },
    {
     "name": "stdout",
     "output_type": "stream",
     "text": [
      "Anagrams\n"
     ]
    }
   ],
   "source": [
    "def check_anagram(str1, str2):\n",
    "    if sorted(str1) == sorted(str2): \n",
    "        print(\"Anagrams\")\n",
    "    else:\n",
    "        print(\"Not anagrams\")\n",
    "str1 = input(\"Enter first string: \")\n",
    "str2 = input(\"Enter second string: \")\n",
    "check_anagram(str1, str2)"
   ]
  },
  {
   "cell_type": "markdown",
   "id": "db236301-aa7e-4682-8e59-aa8fbd45212e",
   "metadata": {},
   "source": [
    "#### 19. Write a function that checks the strength of a password based on these conditions:                                        • If the length is less than 6, print \"Weak password\".                                                                             • If it contains only letters, print \"Moderate password\".                                                                          • If it contains letters and numbers, print \"Strong password\"."
   ]
  },
  {
   "cell_type": "code",
   "execution_count": 1,
   "id": "30013ab1-21df-408c-ba31-15314827c088",
   "metadata": {},
   "outputs": [
    {
     "name": "stdout",
     "output_type": "stream",
     "text": [
      "Strong password\n"
     ]
    }
   ],
   "source": [
    "def check_password_strength(password):\n",
    "    if len(password) < 6:\n",
    "        print(\"Weak password\")\n",
    "    elif password.isalpha():\n",
    "        print(\"Moderate password\")\n",
    "    elif any(char.isdigit() for char in password):  \n",
    "        if any(char.isalpha() for char in password): \n",
    "            print(\"Strong password\")\n",
    "        else:\n",
    "            print(\"Moderate password\")  \n",
    "    else:\n",
    "        print(\"Moderate password\")  \n",
    "password = input(\"Enter a password: \")\n",
    "check_password_strength(password)"
   ]
  }
 ],
 "metadata": {
  "kernelspec": {
   "display_name": "Python 3",
   "language": "python",
   "name": "python3"
  },
  "language_info": {
   "codemirror_mode": {
    "name": "ipython",
    "version": 3
   },
   "file_extension": ".py",
   "mimetype": "text/x-python",
   "name": "python",
   "nbconvert_exporter": "python",
   "pygments_lexer": "ipython3",
   "version": "3.13.1"
  }
 },
 "nbformat": 4,
 "nbformat_minor": 5
}
