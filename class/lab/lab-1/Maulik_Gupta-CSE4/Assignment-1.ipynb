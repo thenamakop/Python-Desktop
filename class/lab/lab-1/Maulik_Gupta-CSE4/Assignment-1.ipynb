{
 "cells": [
  {
   "cell_type": "code",
   "execution_count": 26,
   "id": "a596c470",
   "metadata": {},
   "outputs": [
    {
     "name": "stdout",
     "output_type": "stream",
     "text": [
      "10 \n",
      " 21.5 \n",
      " Hello \n",
      " True\n"
     ]
    }
   ],
   "source": [
    "#1 \n",
    "x:int = 10\n",
    "y:float = 21.5\n",
    "z:str = \"Hello\"\n",
    "t:bool = True\n",
    "print(x,'\\n', y, '\\n', z,'\\n', t)"
   ]
  },
  {
   "cell_type": "code",
   "execution_count": 8,
   "id": "b5e280ff",
   "metadata": {},
   "outputs": [
    {
     "name": "stdout",
     "output_type": "stream",
     "text": [
      "Enter Your name: Maulik Gupta\n",
      "enter your age (Years): 19\n",
      "Enter your height in cms: 185\n",
      "19 \n",
      " 185 \n",
      " Maulik Gupta\n"
     ]
    }
   ],
   "source": [
    "x:int\n",
    "y:int\n",
    "z:str\n",
    "z=input(\"Enter Your name: \")\n",
    "x=input(\"enter your age (Years): \")\n",
    "y=input(\"Enter your height in cms: \")\n",
    "print(x,'\\n',y,'\\n',z)\n"
   ]
  },
  {
   "cell_type": "code",
   "execution_count": 16,
   "id": "bfb698f6",
   "metadata": {},
   "outputs": [
    {
     "name": "stdout",
     "output_type": "stream",
     "text": [
      "<class 'float'> \n",
      " 5.5\n",
      "<class 'int'> \n",
      " 5\n"
     ]
    }
   ],
   "source": [
    "x:float = 5.5\n",
    "print(type(x),'\\n',x)\n",
    "x=int(x)\n",
    "print(type(x),'\\n', x)"
   ]
  },
  {
   "cell_type": "code",
   "execution_count": 7,
   "id": "fb0a0521",
   "metadata": {},
   "outputs": [
    {
     "name": "stdout",
     "output_type": "stream",
     "text": [
      "5   10\n",
      "10   5\n"
     ]
    }
   ],
   "source": [
    "a=5\n",
    "b=10\n",
    "print(a, ' ', b)\n",
    "(a,b) = (b,a)\n",
    "print(a, ' ', b)"
   ]
  },
  {
   "cell_type": "code",
   "execution_count": 13,
   "id": "2f74871f",
   "metadata": {},
   "outputs": [
    {
     "name": "stdout",
     "output_type": "stream",
     "text": [
      "<class 'int'>\n"
     ]
    }
   ],
   "source": [
    "x = 25\n",
    "print(type(x))"
   ]
  },
  {
   "cell_type": "code",
   "execution_count": 10,
   "id": "32971da4",
   "metadata": {},
   "outputs": [
    {
     "name": "stdout",
     "output_type": "stream",
     "text": [
      "<class 'str'>\n",
      "<class 'int'>\n",
      "133\n"
     ]
    }
   ],
   "source": [
    "x = \"123\"\n",
    "print(type(x))\n",
    "x = int(x)\n",
    "print(type(x))\n",
    "print(x+10)"
   ]
  },
  {
   "cell_type": "code",
   "execution_count": 18,
   "id": "60da02b9",
   "metadata": {},
   "outputs": [
    {
     "name": "stdout",
     "output_type": "stream",
     "text": [
      "<class 'float'> \n",
      " 45.67\n",
      "<class 'int'> \n",
      " 45\n",
      "<class 'str'> \n",
      " 45\n"
     ]
    }
   ],
   "source": [
    "x:float=45.67\n",
    "print(type(x),'\\n', x)\n",
    "x=int(x)\n",
    "print(type(x),'\\n',x)\n",
    "x=str(x)\n",
    "print(type(x),'\\n',x)"
   ]
  },
  {
   "cell_type": "code",
   "execution_count": 19,
   "id": "568a2abc",
   "metadata": {},
   "outputs": [
    {
     "name": "stdout",
     "output_type": "stream",
     "text": [
      "Enter a number: t\n",
      "ValueError Please Enter an Integer\n"
     ]
    }
   ],
   "source": [
    "x=input(\"Enter a number: \")\n",
    "if ValueError:\n",
    "    print(\"ValueError Please Enter an Integer\")\n",
    "    \n",
    "else:\n",
    "    x=int(x)\n",
    "    print(type(x))"
   ]
  },
  {
   "cell_type": "code",
   "execution_count": 27,
   "id": "b6997374",
   "metadata": {},
   "outputs": [
    {
     "name": "stdout",
     "output_type": "stream",
     "text": [
      "<class 'list'>\n",
      "<class 'tuple'> \n",
      " (1, 2, 3, 4)\n"
     ]
    }
   ],
   "source": [
    "x:list = [1,2,3,4]\n",
    "print(type(x))\n",
    "x=tuple(x)\n",
    "print(type(x),'\\n', x)"
   ]
  },
  {
   "cell_type": "code",
   "execution_count": 28,
   "id": "cbf4e411",
   "metadata": {},
   "outputs": [
    {
     "name": "stdout",
     "output_type": "stream",
     "text": [
      "1\n",
      "1\n"
     ]
    }
   ],
   "source": [
    "x:bool=True\n",
    "print(type(x), x)\n",
    "x=int(x)\n",
    "print(x)\n",
    "x=str(x)\n",
    "print(x)"
   ]
  },
  {
   "cell_type": "code",
   "execution_count": 29,
   "id": "308d3988",
   "metadata": {},
   "outputs": [
    {
     "name": "stdout",
     "output_type": "stream",
     "text": [
      "Enter First Number10\n",
      "Enter Second Number21\n",
      "x i.e.10 is greater than y i.e.21\n"
     ]
    }
   ],
   "source": [
    "x=int(input(\"Enter First Number\"))\n",
    "y=int(input(\"Enter Second Number\"))\n",
    "if(x>y):\n",
    "    print(f\"x i.e.{x} is greater than y i.e.{y}\")\n",
    "elif(x<y):\n",
    "    print(f\"x i.e.{x} is greater than y i.e.{y}\")\n",
    "else:\n",
    "    print(\"Both x & y are equal\")"
   ]
  },
  {
   "cell_type": "code",
   "execution_count": 30,
   "id": "299857e4",
   "metadata": {},
   "outputs": [
    {
     "name": "stdout",
     "output_type": "stream",
     "text": [
      "Enter first Number: 10\n",
      "Enter Second Number: 1\n",
      "Enter Third Number21\n",
      "z i.e.21 is the greatest\n"
     ]
    }
   ],
   "source": [
    "x=int(input(\"Enter first Number: \"))\n",
    "y=int(input(\"Enter Second Number: \"))\n",
    "z=int(input(\"Enter Third Number\"))\n",
    "if(x>y and x>z):\n",
    "    print(f\"x i.e.{x} is the greatest\")\n",
    "elif(y>x and y>z):\n",
    "    print(f\"y i.e.{y} is the geatest\")\n",
    "else:\n",
    "    print(f\"z i.e.{z} is the greatest\")"
   ]
  },
  {
   "cell_type": "code",
   "execution_count": 37,
   "id": "cad91f6d",
   "metadata": {},
   "outputs": [
    {
     "name": "stdout",
     "output_type": "stream",
     "text": [
      "Enter an integer12\n"
     ]
    }
   ],
   "source": [
    "#13 \n",
    "x=int(input(\"Enter an integer\"))\n",
    "if((x>=0) and ((x//2)==0)):\n",
    "    print(f\"{x} is a positive even integer\")"
   ]
  },
  {
   "cell_type": "code",
   "execution_count": 50,
   "id": "1e1dbeed",
   "metadata": {},
   "outputs": [
    {
     "name": "stdout",
     "output_type": "stream",
     "text": [
      "5 0\n",
      "[5, 1, 2, 9, 0, 4]\n",
      "[5, 2, 9, 0, 4]\n",
      "[0, 2, 4, 5, 9]\n"
     ]
    }
   ],
   "source": [
    "x=[5,1,2,9,0]\n",
    "#a\n",
    "print(x[0], x[4])\n",
    "#b\n",
    "x.append(4)\n",
    "print(x)\n",
    "#c\n",
    "x.pop(1)\n",
    "print(x)\n",
    "#d\n",
    "x.sort()\n",
    "print(x)"
   ]
  },
  {
   "cell_type": "code",
   "execution_count": 54,
   "id": "db522ce7",
   "metadata": {},
   "outputs": [
    {
     "name": "stdout",
     "output_type": "stream",
     "text": [
      "55\n"
     ]
    }
   ],
   "source": [
    "x = [1,2,3,4,5,6,7,8,9,10]\n",
    "sum:int = 0\n",
    "for i in range (10):\n",
    "    sum += x[i]\n",
    "print(sum)"
   ]
  },
  {
   "cell_type": "code",
   "execution_count": 58,
   "id": "c9557103",
   "metadata": {},
   "outputs": [
    {
     "name": "stdout",
     "output_type": "stream",
     "text": [
      "Enter the number you want to find7\n",
      "Number 7 found at index 2\n"
     ]
    }
   ],
   "source": [
    "x:list=[1,5 ,7, 10,6]\n",
    "number_to_find = int(input(\"Enter the number you want to find: \"))\n",
    "for i in range (5):\n",
    "    if(x[i]==number_to_find):\n",
    "        print(f\"Number {number_to_find} found at index\", i)"
   ]
  },
  {
   "cell_type": "code",
   "execution_count": 18,
   "id": "2af665f5",
   "metadata": {},
   "outputs": [
    {
     "name": "stdout",
     "output_type": "stream",
     "text": [
      "2\n",
      "4\n",
      "6\n",
      "8\n",
      "10\n"
     ]
    }
   ],
   "source": [
    "x=[1,2,3,4,5,6,7,8,9,10]\n",
    "for i in range(10):\n",
    "    if((x[i]%2)==0):\n",
    "        print(x[i])"
   ]
  },
  {
   "cell_type": "code",
   "execution_count": 17,
   "id": "3660a7c9",
   "metadata": {},
   "outputs": [
    {
     "name": "stdout",
     "output_type": "stream",
     "text": [
      "[5, 4, 3, 2, 1]\n",
      "[5, 4, 3, 2, 1]\n"
     ]
    }
   ],
   "source": [
    "x=[1,2,3,4,5]\n",
    "y=[]\n",
    "i=4\n",
    "while(i>=0):\n",
    "    temp = x[i]\n",
    "    y.append(temp)\n",
    "    i -= 1\n",
    "print(y)\n",
    "x = y\n",
    "print(x)"
   ]
  },
  {
   "cell_type": "code",
   "execution_count": 59,
   "id": "22ba6ded",
   "metadata": {},
   "outputs": [
    {
     "name": "stdout",
     "output_type": "stream",
     "text": [
      "1 \t 5\n"
     ]
    }
   ],
   "source": [
    "x=[1,2,3,4,5]\n",
    "print(x[0], '\\t', x[4])"
   ]
  },
  {
   "cell_type": "code",
   "execution_count": 3,
   "id": "ef3ea57e",
   "metadata": {},
   "outputs": [
    {
     "name": "stdout",
     "output_type": "stream",
     "text": [
      "Number 7 exists at index 2\n"
     ]
    }
   ],
   "source": [
    "x:list=[1,5 ,7, 10,6]\n",
    "number_to_find = int(input(\"Enter the number you want to find: \"))\n",
    "for i in range (5):\n",
    "    if(x[i]==number_to_find):\n",
    "        print(f\"Number {number_to_find} exists at index {i}\")"
   ]
  },
  {
   "cell_type": "code",
   "execution_count": 2,
   "id": "82467d31",
   "metadata": {},
   "outputs": [
    {
     "name": "stdout",
     "output_type": "stream",
     "text": [
      "12 appended successfully\n",
      "[5, 8, 3, 6, 12, 12]\n",
      "5 removed from the list successfully\n",
      "[8, 3, 6, 12, 12]\n"
     ]
    }
   ],
   "source": [
    "x:list=[5,8,3,6,12]\n",
    "i=int(input(\"Enter what number you want to append\"))\n",
    "x.append(i)\n",
    "print(f\"{i} appended successfully\")\n",
    "print(x)\n",
    "i=int(input(\"Enter the number you want to remove\"))\n",
    "x.remove(i)\n",
    "print(f\"{i} removed from the list successfully\")\n",
    "print(x)"
   ]
  },
  {
   "cell_type": "code",
   "execution_count": 7,
   "id": "79999053",
   "metadata": {},
   "outputs": [
    {
     "name": "stdout",
     "output_type": "stream",
     "text": [
      "Here is the list: \n",
      " [1, 56, 7, 34, 78, 43, 91, 32, 75, 10] \n",
      "\n",
      "Here are all the numbers in the list:\n",
      "56\n",
      "34\n",
      "78\n",
      "32\n",
      "10\n"
     ]
    }
   ],
   "source": [
    "#22\n",
    "x:list = [1,56,7,34,78,43,91,32,75,10]\n",
    "print(\"Here is the list: \\n\", x,\"\\n\")\n",
    "print(\"Here are all the numbers in the list:\")\n",
    "for i in range(10):\n",
    "    if(x[i]%2==0):\n",
    "        print(x[i])\n",
    "    else:\n",
    "        continue\n"
   ]
  },
  {
   "cell_type": "code",
   "execution_count": 5,
   "id": "5bcc2e56",
   "metadata": {},
   "outputs": [
    {
     "ename": "IndexError",
     "evalue": "list index out of range",
     "output_type": "error",
     "traceback": [
      "\u001b[1;31m---------------------------------------------------------------------------\u001b[0m",
      "\u001b[1;31mIndexError\u001b[0m                                Traceback (most recent call last)",
      "Cell \u001b[1;32mIn[5], line 6\u001b[0m\n\u001b[0;32m      4\u001b[0m i\u001b[38;5;241m=\u001b[39m\u001b[38;5;241m4\u001b[39m\n\u001b[0;32m      5\u001b[0m \u001b[38;5;28;01mwhile\u001b[39;00m(i\u001b[38;5;241m>\u001b[39m\u001b[38;5;241m=\u001b[39m\u001b[38;5;241m0\u001b[39m):\n\u001b[1;32m----> 6\u001b[0m     x[i\u001b[38;5;241m-\u001b[39m\u001b[38;5;241m4\u001b[39m]\u001b[38;5;241m=\u001b[39m\u001b[43my\u001b[49m\u001b[43m[\u001b[49m\u001b[43mi\u001b[49m\u001b[43m]\u001b[49m\n\u001b[0;32m      7\u001b[0m \u001b[38;5;28mprint\u001b[39m(\u001b[38;5;124m\"\u001b[39m\u001b[38;5;124mList reversed successfully\u001b[39m\u001b[38;5;124m\"\u001b[39m)\n\u001b[0;32m      8\u001b[0m \u001b[38;5;28mprint\u001b[39m(\u001b[38;5;124m\"\u001b[39m\u001b[38;5;124mThis is the reversed list: \u001b[39m\u001b[38;5;130;01m\\n\u001b[39;00m\u001b[38;5;124m \u001b[39m\u001b[38;5;124m\"\u001b[39m,x)\n",
      "\u001b[1;31mIndexError\u001b[0m: list index out of range"
     ]
    }
   ],
   "source": [
    "x:list=[1,2,3,4,5]\n",
    "y:list=[]\n",
    "\n",
    "i=4\n",
    "while(i>=0):\n",
    "    x[i-4]=y[i]\n",
    "print(\"List reversed successfully\")\n",
    "print(\"This is the reversed list: \\n \",x)"
   ]
  },
  {
   "cell_type": "code",
   "execution_count": 9,
   "id": "d91e954f",
   "metadata": {},
   "outputs": [
    {
     "name": "stdout",
     "output_type": "stream",
     "text": [
      "The list is empty\n"
     ]
    }
   ],
   "source": [
    "x=[]\n",
    "if x==[]:\n",
    "    print(\"The list is empty\")\n",
    "else:\n",
    "    print(\"The list  is not empty\")"
   ]
  },
  {
   "cell_type": "code",
   "execution_count": null,
   "id": "a1a13b9b",
   "metadata": {},
   "outputs": [
    {
     "name": "stdout",
     "output_type": "stream",
     "text": [
      "Value Added successfully\n",
      "Value Added successfully\n",
      "Value Added successfully\n",
      "Value Added successfully\n",
      "List has been made\n",
      "[1, 2, 3, 4]\n",
      "Largest Number Found i.e. :  4\n"
     ]
    }
   ],
   "source": [
    "x:list=[]\n",
    "largest:int = 0\n",
    "f=int(input(\"Enter the number of indices you want in the list\"))\n",
    "for i in range(f):\n",
    "    L=int(input(f\"Enter the value for the {i} index: \"))\n",
    "    x.append(L)\n",
    "    print(f\"Value {L} Added successfully\")\n",
    "print(\"List has been made\")\n",
    "print(x)\n",
    "for i in range(len(x)):\n",
    "    if x[i]>=largest:\n",
    "        largest = x[i]\n",
    "    else:\n",
    "        continue\n",
    "print(\"Largest Number Found i.e. : \",largest)"
   ]
  },
  {
   "cell_type": "code",
   "execution_count": 7,
   "id": "5197fd84",
   "metadata": {},
   "outputs": [
    {
     "name": "stdout",
     "output_type": "stream",
     "text": [
      "Value Appended\n",
      "Value Appended\n",
      "Value Appended\n",
      "Value Appended\n",
      "Value Appended\n",
      "List has been made\n",
      "The list contains negative integers\n"
     ]
    }
   ],
   "source": [
    "x:list=[]\n",
    "f=int(input(\"How many indices you want in list: \"))\n",
    "for i in range(f):\n",
    "    x_in=int(input(f\"Enter the {i} value for the list: \"))\n",
    "    x.append(x_in)\n",
    "    print(f\"Value {x_in} Appended\")\n",
    "print(\"List has been made\")\n",
    "for i in range(len(x)):\n",
    "    if x[i]>=0:\n",
    "        val:bool=True\n",
    "        continue\n",
    "    elif x[i]<0:\n",
    "        val:bool=False\n",
    "        break\n",
    "if val==True:\n",
    "    print(\"The list only contains positive integers\")\n",
    "else:\n",
    "    print(\"The list contains negative integers\")"
   ]
  },
  {
   "cell_type": "code",
   "execution_count": null,
   "id": "2441dd9c",
   "metadata": {},
   "outputs": [
    {
     "name": "stdout",
     "output_type": "stream",
     "text": [
      "Value Appended\n",
      "Value Appended\n",
      "Value Appended\n",
      "Value Appended\n",
      "Value Appended\n",
      "High\n"
     ]
    }
   ],
   "source": [
    "x:list=[]\n",
    "f:int=5\n",
    "for i in range(f):\n",
    "    x_in=int(input(f\"Enter the {i} value for the list: \"))\n",
    "    x.append(x_in)\n",
    "    print(f\"Value {x_in} Appended\")\n",
    "sum:int=0\n",
    "for i in range(len(x)):\n",
    "    sum = sum + x[i]\n",
    "if(sum>=50):\n",
    "    print(\"High\")\n",
    "else:\n",
    "    print(\"Low\")\n",
    "\n"
   ]
  },
  {
   "cell_type": "code",
   "execution_count": null,
   "id": "980fd15e",
   "metadata": {},
   "outputs": [],
   "source": [
    "x:list=[]\n",
    "f=int(input(\"Enter the number of indices you want in the list\"))\n",
    "for i in range(f):\n",
    "    L=int(input(f\"Enter the value for the {i} index: \"))\n",
    "    x.append(L)\n",
    "    print(f\"Value {L} Added successfully\")\n",
    "print(\"List has been made\")\n",
    "print(x)\n",
    "positive:list=[]\n",
    "negative:list=[]\n",
    "zero:list=[]\n",
    "for i in range(len(x)):\n",
    "    if x[i]>0:\n",
    "        print(f\"{x[i]} is positive\")\n",
    "        positive.append(x[i])\n",
    "    elif x<0:\n",
    "        print(f\"{x[i]} is negative\")\n",
    "        negative.append(x[i])\n",
    "    else:\n",
    "        print(f\"{x[i]} is zero\")\n",
    "        zero.append(x[i])'\n",
    "print(\"Here are all the positive numbers: \",positive)\n",
    "print(\"Here are all the negative numbers: \",negative)\n",
    "print(\"Here are all the zeros: \", zero)"
   ]
  },
  {
   "cell_type": "code",
   "execution_count": null,
   "id": "915ceb05",
   "metadata": {},
   "outputs": [
    {
     "name": "stdout",
     "output_type": "stream",
     "text": [
      "Value 15 Added successfully\n",
      "Value 12 Added successfully\n",
      "Value 1 Added successfully\n",
      "Value 3 Added successfully\n",
      "Value 5 Added successfully\n",
      "List has been made\n",
      "[15, 12, 1, 3, 5]\n",
      "Largest Number Found i.e. :  15\n",
      "Second Largest Number Found: 12\n"
     ]
    }
   ],
   "source": [
    "x:list=[]\n",
    "largest:int = 0\n",
    "f=int(input(\"Enter the number of indices you want in the list\"))\n",
    "for i in range(f):\n",
    "    L=int(input(f\"Enter the value for the {i} index: \"))\n",
    "    x.append(L)\n",
    "    print(f\"Value {L} Added successfully\")\n",
    "print(\"List has been made\")\n",
    "print(x)\n",
    "for i in range(len(x)):\n",
    "    if x[i]>=largest:\n",
    "        largest = x[i]\n",
    "    else:\n",
    "        continue\n",
    "print(\"Largest Number Found i.e. : \",largest)\n",
    "#Now for second largest\n",
    "second_largest:int\n",
    "for i in range(len(x)):\n",
    "    if largest>x[i] and x[i]>second_largest:\n",
    "        second_largest = x[i]\n",
    "    else:\n",
    "        continue\n",
    "print(f\"Second Largest Number Found: {second_largest}\")"
   ]
  },
  {
   "cell_type": "code",
   "execution_count": 1,
   "id": "3c4ac218",
   "metadata": {},
   "outputs": [
    {
     "name": "stdin",
     "output_type": "stream",
     "text": [
      "Enter the number of indices you want in the list 5\n",
      "Enter the value for the 0 index:  5\n"
     ]
    },
    {
     "name": "stdout",
     "output_type": "stream",
     "text": [
      "Value 5 Added successfully\n"
     ]
    },
    {
     "name": "stdin",
     "output_type": "stream",
     "text": [
      "Enter the value for the 1 index:  2\n"
     ]
    },
    {
     "name": "stdout",
     "output_type": "stream",
     "text": [
      "Value 2 Added successfully\n"
     ]
    },
    {
     "name": "stdin",
     "output_type": "stream",
     "text": [
      "Enter the value for the 2 index:  3\n"
     ]
    },
    {
     "name": "stdout",
     "output_type": "stream",
     "text": [
      "Value 3 Added successfully\n"
     ]
    },
    {
     "name": "stdin",
     "output_type": "stream",
     "text": [
      "Enter the value for the 3 index:  4\n"
     ]
    },
    {
     "name": "stdout",
     "output_type": "stream",
     "text": [
      "Value 4 Added successfully\n"
     ]
    },
    {
     "name": "stdin",
     "output_type": "stream",
     "text": [
      "Enter the value for the 4 index:  5\n"
     ]
    },
    {
     "name": "stdout",
     "output_type": "stream",
     "text": [
      "Value 5 Added successfully\n",
      "List has been made\n",
      "[5, 2, 3, 4, 5]\n",
      "The list after replacing negative numbers by zero looks like:  [5, 2, 3, 4, 5]\n"
     ]
    }
   ],
   "source": [
    "x:list=[]\n",
    "f=int(input(\"Enter the number of indices you want in the list\"))\n",
    "for i in range(f):\n",
    "    L=int(input(f\"Enter the value for the {i} index: \"))\n",
    "    x.append(L)\n",
    "    print(f\"Value {L} Added successfully\")\n",
    "print(\"List has been made\")\n",
    "print(x)\n",
    "for i in range(len(x)):\n",
    "    if x[i]<0:\n",
    "        x[i]=0\n",
    "        print(f\"Negative Value at index {i} replaced by zero\")\n",
    "    else:\n",
    "        continue\n",
    "print(\"The list after replacing negative numbers by zero looks like: \", x)"
   ]
  },
  {
   "cell_type": "code",
   "execution_count": null,
   "id": "ca169b75",
   "metadata": {},
   "outputs": [],
   "source": [
    "x:list=[]\n",
    "f=int(input(\"Enter the number of indices you want in the list\"))\n",
    "for i in range(f):\n",
    "    L=input(f\"Enter the value for the {i} index: \")\n",
    "    x.append(L)\n",
    "    print(f\"Value {L} Added successfully\")\n",
    "print(\"List has been made\")\n",
    "print(x)\n",
    "word=input(\"Enter the work you want to find: \")\n",
    "for i in range(len(x)):\n",
    "    if"
   ]
  }
 ],
 "metadata": {
  "kernelspec": {
   "display_name": "Python 3 (ipykernel)",
   "language": "python",
   "name": "python3"
  },
  "language_info": {
   "codemirror_mode": {
    "name": "ipython",
    "version": 3
   },
   "file_extension": ".py",
   "mimetype": "text/x-python",
   "name": "python",
   "nbconvert_exporter": "python",
   "pygments_lexer": "ipython3",
   "version": "3.12.7"
  }
 },
 "nbformat": 4,
 "nbformat_minor": 5
}
