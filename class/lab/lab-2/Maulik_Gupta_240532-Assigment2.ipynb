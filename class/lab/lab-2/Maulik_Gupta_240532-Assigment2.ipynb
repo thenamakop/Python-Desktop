{
 "cells": [
  {
   "cell_type": "code",
   "execution_count": 1,
   "id": "97618609-83f2-4c8c-88ce-4f6caa32f4cf",
   "metadata": {},
   "outputs": [
    {
     "name": "stdout",
     "output_type": "stream",
     "text": [
      "How many indices do you want in the first list:  2\n"
     ]
    },
    {
     "name": "stdout",
     "output_type": "stream",
     "text": [
      "Please input the elements for list 1: \n",
      "\n"
     ]
    },
    {
     "name": "stdout",
     "output_type": "stream",
     "text": [
      "Enter the 0 element for List 1:  1\n"
     ]
    },
    {
     "name": "stdout",
     "output_type": "stream",
     "text": [
      "Element appended successfully.\n"
     ]
    },
    {
     "name": "stdout",
     "output_type": "stream",
     "text": [
      "Enter the 1 element for List 1:  2\n"
     ]
    },
    {
     "name": "stdout",
     "output_type": "stream",
     "text": [
      "Element appended successfully.\n",
      "List 1 has been made \n",
      " Moving on to list 2\n"
     ]
    },
    {
     "name": "stdout",
     "output_type": "stream",
     "text": [
      "How many indices do you want in the second list:  3\n"
     ]
    },
    {
     "name": "stdout",
     "output_type": "stream",
     "text": [
      "Please input the elements for list 2: \n",
      "\n"
     ]
    },
    {
     "name": "stdout",
     "output_type": "stream",
     "text": [
      "Enter the 0 element for List 2:  3\n"
     ]
    },
    {
     "name": "stdout",
     "output_type": "stream",
     "text": [
      "Element appended successfully.\n"
     ]
    },
    {
     "name": "stdout",
     "output_type": "stream",
     "text": [
      "Enter the 1 element for List 2:  4\n"
     ]
    },
    {
     "name": "stdout",
     "output_type": "stream",
     "text": [
      "Element appended successfully.\n"
     ]
    },
    {
     "name": "stdout",
     "output_type": "stream",
     "text": [
      "Enter the 2 element for List 2:  5\n"
     ]
    },
    {
     "name": "stdout",
     "output_type": "stream",
     "text": [
      "Element appended successfully.\n",
      "List 2 made\n",
      "Adding List 2 to List 1 by using the append function: \n",
      "['1', '2', '3', '4', '5']\n",
      "Addind List 2 to List 1 by using the extend function: \n",
      "['1', '2', '3', '4', '5']\n"
     ]
    }
   ],
   "source": [
    "def list_Append(l1,l2):\n",
    "    copy_l1:list=[]\n",
    "    copy_l2:list=[]\n",
    "    copy_l1=l1.copy()\n",
    "    copy_l2=l2.copy()\n",
    "    print(\"Adding List 2 to List 1 by using the append function: \")\n",
    "    for i in range (len(copy_l2)):\n",
    "        copy_l1.append(copy_l2[i])\n",
    "    print(copy_l1)\n",
    "def list_Extend(l1,l2):\n",
    "    print(\"Addind List 2 to List 1 by using the extend function: \")\n",
    "    copy_l1:list=[]\n",
    "    copy_l2:list=[]\n",
    "    copy_l1=l1.copy()\n",
    "    copy_l2=l2.copy()\n",
    "    copy_l1.extend(copy_l2)\n",
    "    print(copy_l1)\n",
    "#main\n",
    "list1:list=[]\n",
    "x=int(input(\"How many indices do you want in the first list: \"))\n",
    "print(\"Please input the elements for list 1: \\n\")\n",
    "for i in range (x):\n",
    "    f=input(f\"Enter the {i} element for List 1: \")\n",
    "    list1.append(f)\n",
    "    print(\"Element appended successfully.\")\n",
    "print(\"List 1 has been made \\n Moving on to list 2\")\n",
    "list2:list=[]\n",
    "x=int(input(\"How many indices do you want in the second list: \"))\n",
    "print(\"Please input the elements for list 2: \\n\")\n",
    "for i in range (x):\n",
    "    f=input(f\"Enter the {i} element for List 2: \")\n",
    "    list2.append(f)\n",
    "    print(\"Element appended successfully.\")\n",
    "print(\"List 2 made\")\n",
    "\n",
    "list_Append(list1,list2)\n",
    "list_Extend(list1,list2)"
   ]
  },
  {
   "cell_type": "code",
   "execution_count": 3,
   "id": "9d2e304c-bc8a-4a83-a1a5-87d69486126e",
   "metadata": {},
   "outputs": [
    {
     "name": "stdout",
     "output_type": "stream",
     "text": [
      "[10, 20, 30, 40, 50, 60, 70, 80, 90]\n",
      "[10, 20, 100, 40, 50, 60, 70, 80, 90]\n",
      "[10, 20, 100, 40, 60, 70, 80, 90]\n"
     ]
    }
   ],
   "source": [
    "x:list=[10,20,30,40,50,60,70,80,90]\n",
    "print(x)\n",
    "x[2]=100\n",
    "print(x)\n",
    "x.remove(50)\n",
    "print(x)"
   ]
  },
  {
   "cell_type": "code",
   "execution_count": 25,
   "id": "3a358dd8-a6de-473f-85d8-a016e06fd899",
   "metadata": {},
   "outputs": [
    {
     "name": "stdout",
     "output_type": "stream",
     "text": [
      "['Mustang', 'Scorpio', 'Bolero', 'Tata Punch', 'Tesla', 'GTR']\n",
      "['Mustang', 'Scorpio', 'Bolero', 'Tata Punch', 'Tesla']\n",
      "Tata Punch Found  3\n"
     ]
    }
   ],
   "source": [
    "Cars:list=[\"Mustang\", \"Scorpio\", \"Bolero\", \"Tata Punch\", \"Tesla\", \"GTR\"]\n",
    "print(Cars)\n",
    "index:int=len(Cars)-1\n",
    "Cars.pop(index)\n",
    "print(Cars)\n",
    "string=\"Tata Punch\"\n",
    "if string in Cars:\n",
    "    print(\"Tata Punch Found at \",Cars.index(string))"
   ]
  },
  {
   "cell_type": "code",
   "execution_count": 29,
   "id": "5b4c29a8-aa88-4d6c-8f8b-9c09eabb144c",
   "metadata": {},
   "outputs": [
    {
     "name": "stdout",
     "output_type": "stream",
     "text": [
      "[10, 20, 40, 70, 60, 50]\n",
      "[50, 60, 70, 40, 20, 10]\n",
      "[10, 20, 40, 50, 60, 70]\n"
     ]
    }
   ],
   "source": [
    "orig_list:list=[10,20,40,70,60,50]\n",
    "print(orig_list)\n",
    "reversed_list:list=orig_list\n",
    "reversed_list.reverse()\n",
    "print(reversed_list)\n",
    "sorted_list:list=orig_list\n",
    "sorted_list.sort()\n",
    "print(sorted_list)"
   ]
  },
  {
   "cell_type": "code",
   "execution_count": 37,
   "id": "ee2ba61a-b3af-4a5f-bb61-389498b6a2ef",
   "metadata": {},
   "outputs": [
    {
     "name": "stdout",
     "output_type": "stream",
     "text": [
      "[1, 2, 3, 4, 5, 6, 7, 8, 9, 10, 1, 2, 3, 4, 5, 6, 7, 8, 9, 10, 1, 2, 3, 4, 5, 6, 7, 8, 9, 10]\n"
     ]
    }
   ],
   "source": [
    "def Concatenate_Lists(List1, List2):\n",
    "    New_List:list= List1+List2\n",
    "    print(New_List*3)\n",
    "First:list=[1,2,3,4,5]\n",
    "Second:list=[6,7,8,9,10]\n",
    "Concatenate_Lists(First, Second)"
   ]
  },
  {
   "cell_type": "code",
   "execution_count": 39,
   "id": "e8db3e93-b2d5-4348-9dd7-c4d5f557e1b6",
   "metadata": {},
   "outputs": [
    {
     "name": "stdout",
     "output_type": "stream",
     "text": [
      "Enter A String:  Maulik Gupta\n"
     ]
    },
    {
     "data": {
      "text/plain": [
       "('MAULIK GUPTA', 'maulik gupta')"
      ]
     },
     "execution_count": 39,
     "metadata": {},
     "output_type": "execute_result"
    }
   ],
   "source": [
    "def String_Case_Changer(string):\n",
    "    upper:string=string.upper()\n",
    "    lower:string=string.lower()\n",
    "    return upper, lower\n",
    "x:string=input(\"Enter A String: \")\n",
    "String_Case_Changer(x)"
   ]
  },
  {
   "cell_type": "code",
   "execution_count": 43,
   "id": "9e67d793-9d84-4e0c-8e6f-97ed3cd89d19",
   "metadata": {},
   "outputs": [
    {
     "name": "stdout",
     "output_type": "stream",
     "text": [
      "Hi,world! Hi, Python!\n",
      "14 is the position of Python in the modified string\n"
     ]
    }
   ],
   "source": [
    "string:str=\"Hello,world! Hello, Python!\"\n",
    "new=string.replace(\"Hello\", \"Hi\")\n",
    "print(new)\n",
    "x:int=new.index(\"Python\")\n",
    "print(f\"{x} is the position of Python in the modified string\")"
   ]
  },
  {
   "cell_type": "code",
   "execution_count": 45,
   "id": "88267551-0d51-4e0c-9d17-cecf8363c288",
   "metadata": {},
   "outputs": [
    {
     "name": "stdout",
     "output_type": "stream",
     "text": [
      "['Welcome', 'To', 'The', 'Jungle']\n",
      "Welcome-To-The-Jungle\n"
     ]
    }
   ],
   "source": [
    "txt:str=\"Welcome To The Jungle\"\n",
    "x=txt.split()\n",
    "print(x)\n",
    "print(\"-\".join(x))"
   ]
  },
  {
   "cell_type": "code",
   "execution_count": 47,
   "id": "89deb17b-5af2-45da-b0b6-b105f7015a75",
   "metadata": {},
   "outputs": [
    {
     "name": "stdout",
     "output_type": "stream",
     "text": [
      "[1, 2, 3, 4, 5, 6, 7, 8, 9, 10, 1, 2, 3, 4, 5, 6, 7, 8, 9, 10, 1, 2, 3, 4, 5, 6, 7, 8, 9, 10, 1, 2, 3, 4, 5, 6, 7, 8, 9, 10]\n"
     ]
    }
   ],
   "source": [
    "def Concatenate_Lists(List1, List2):\n",
    "    New_List:list= List1+List2\n",
    "    print(New_List*4)\n",
    "First:list=[1,2,3,4,5]\n",
    "Second:list=[6,7,8,9,10]\n",
    "Concatenate_Lists(First, Second)"
   ]
  },
  {
   "cell_type": "code",
   "execution_count": 57,
   "id": "666f28a1-54b8-439c-90f1-f5adba958054",
   "metadata": {},
   "outputs": [
    {
     "name": "stdout",
     "output_type": "stream",
     "text": [
      "Python \n",
      " Programming\n",
      "PtoPormig\n"
     ]
    }
   ],
   "source": [
    "string=\"PythonProgramming\"\n",
    "sub1:str=string[:6]\n",
    "sub2:str=string[6:]\n",
    "\n",
    "print(sub1,\"\\n\",sub2)\n",
    "\n",
    "alternate:str=string[::2]\n",
    "print(alternate)"
   ]
  },
  {
   "cell_type": "code",
   "execution_count": 63,
   "id": "bc5141e1-ca40-4441-87e1-304967054b19",
   "metadata": {},
   "outputs": [
    {
     "name": "stdout",
     "output_type": "stream",
     "text": [
      "How many indices do you want in the list:  5\n",
      "Enter the 0th value for the list:  1\n"
     ]
    },
    {
     "name": "stdout",
     "output_type": "stream",
     "text": [
      "Value apppended\n"
     ]
    },
    {
     "name": "stdout",
     "output_type": "stream",
     "text": [
      "Enter the 1th value for the list:  2\n"
     ]
    },
    {
     "name": "stdout",
     "output_type": "stream",
     "text": [
      "Value apppended\n"
     ]
    },
    {
     "name": "stdout",
     "output_type": "stream",
     "text": [
      "Enter the 2th value for the list:  3\n"
     ]
    },
    {
     "name": "stdout",
     "output_type": "stream",
     "text": [
      "Value apppended\n"
     ]
    },
    {
     "name": "stdout",
     "output_type": "stream",
     "text": [
      "Enter the 3th value for the list:  3\n"
     ]
    },
    {
     "name": "stdout",
     "output_type": "stream",
     "text": [
      "Value apppended\n"
     ]
    },
    {
     "name": "stdout",
     "output_type": "stream",
     "text": [
      "Enter the 4th value for the list:  4\n"
     ]
    },
    {
     "name": "stdout",
     "output_type": "stream",
     "text": [
      "Value apppended\n"
     ]
    },
    {
     "name": "stdout",
     "output_type": "stream",
     "text": [
      "Enter the number you want to find 3\n"
     ]
    },
    {
     "name": "stdout",
     "output_type": "stream",
     "text": [
      "Number Found\n"
     ]
    }
   ],
   "source": [
    "x:list=[]\n",
    "f=int(input(\"How many indices do you want in the list: \"))\n",
    "for i in range(f):\n",
    "    L=int(input(f\"Enter the {i}th value for the list: \"))\n",
    "    x.append(L)\n",
    "    print(\"Value apppended\")\n",
    "number_to_find:int=int(input(\"Enter the number you want to find\"))\n",
    "checker:bool\n",
    "for i in range(len(x)):\n",
    "    if x[i]==number_to_find:\n",
    "        checker=True\n",
    "        if checker:\n",
    "            break\n",
    "    else:\n",
    "        checker=False\n",
    "if checker:\n",
    "    print(\"Number Found\")\n",
    "else:\n",
    "    print(\"Number Not Found\")"
   ]
  },
  {
   "cell_type": "code",
   "execution_count": 73,
   "id": "906d6a3d-4f40-4456-b0ac-55b3779d6818",
   "metadata": {},
   "outputs": [
    {
     "data": {
      "text/plain": [
       "'List Is Empty'"
      ]
     },
     "execution_count": 73,
     "metadata": {},
     "output_type": "execute_result"
    }
   ],
   "source": [
    "def list_empty_checker(list):\n",
    "    if list:\n",
    "        return \"List Has Elements\"\n",
    "    else:\n",
    "        return \"List Is Empty\"\n",
    "lst:list=[]\n",
    "list_empty_checker(lst)"
   ]
  },
  {
   "cell_type": "code",
   "execution_count": 5,
   "id": "a826e770-0b65-47e6-a3a4-b1480910e21f",
   "metadata": {},
   "outputs": [
    {
     "name": "stdout",
     "output_type": "stream",
     "text": [
      "How many indices do you want in the list:  5\n",
      "Enter the 0th value for the list:  1\n"
     ]
    },
    {
     "name": "stdout",
     "output_type": "stream",
     "text": [
      "Value apppended\n"
     ]
    },
    {
     "name": "stdout",
     "output_type": "stream",
     "text": [
      "Enter the 1th value for the list:  2\n"
     ]
    },
    {
     "name": "stdout",
     "output_type": "stream",
     "text": [
      "Value apppended\n"
     ]
    },
    {
     "name": "stdout",
     "output_type": "stream",
     "text": [
      "Enter the 2th value for the list:  3\n"
     ]
    },
    {
     "name": "stdout",
     "output_type": "stream",
     "text": [
      "Value apppended\n"
     ]
    },
    {
     "name": "stdout",
     "output_type": "stream",
     "text": [
      "Enter the 3th value for the list:  4\n"
     ]
    },
    {
     "name": "stdout",
     "output_type": "stream",
     "text": [
      "Value apppended\n"
     ]
    },
    {
     "name": "stdout",
     "output_type": "stream",
     "text": [
      "Enter the 4th value for the list:  5\n"
     ]
    },
    {
     "name": "stdout",
     "output_type": "stream",
     "text": [
      "Value apppended\n",
      "List made:- \n",
      "[1, 2, 3, 4, 5]\n",
      "All Even Numbers removed\n",
      "[1, 3, 5]\n"
     ]
    }
   ],
   "source": [
    "x:list=[]\n",
    "f=int(input(\"How many indices do you want in the list: \"))\n",
    "for i in range(f):\n",
    "    L=int(input(f\"Enter the {i}th value for the list: \"))\n",
    "    x.append(L)\n",
    "    print(\"Value apppended\")\n",
    "print(\"List made:- \")\n",
    "print(x)\n",
    "filtered_nums:list=[]\n",
    "for i in x:\n",
    "    if (i%2)!=0:\n",
    "        filtered_nums.append(i)\n",
    "    else:\n",
    "        continue\n",
    "x.clear()\n",
    "x=filtered_nums.copy()\n",
    "print(\"All Even Numbers removed\")\n",
    "print(x)"
   ]
  },
  {
   "cell_type": "code",
   "execution_count": 2,
   "id": "ded1d045",
   "metadata": {},
   "outputs": [
    {
     "name": "stdout",
     "output_type": "stream",
     "text": [
      "How many indices do you want in the list:  3\n",
      "Enter the 0th value for the list:  1\n"
     ]
    },
    {
     "name": "stdout",
     "output_type": "stream",
     "text": [
      "Value apppended\n"
     ]
    },
    {
     "name": "stdout",
     "output_type": "stream",
     "text": [
      "Enter the 1th value for the list:  2\n"
     ]
    },
    {
     "name": "stdout",
     "output_type": "stream",
     "text": [
      "Value apppended\n"
     ]
    },
    {
     "name": "stdout",
     "output_type": "stream",
     "text": [
      "Enter the 2th value for the list:  3\n"
     ]
    },
    {
     "name": "stdout",
     "output_type": "stream",
     "text": [
      "Value apppended\n",
      "List made:- \n",
      "[1, 2, 3]\n"
     ]
    },
    {
     "name": "stdout",
     "output_type": "stream",
     "text": [
      "How many indices do you want in the list:  3\n",
      "Enter the 0th value for the list:  1\n"
     ]
    },
    {
     "name": "stdout",
     "output_type": "stream",
     "text": [
      "Value apppended\n"
     ]
    },
    {
     "name": "stdout",
     "output_type": "stream",
     "text": [
      "Enter the 1th value for the list:  2\n"
     ]
    },
    {
     "name": "stdout",
     "output_type": "stream",
     "text": [
      "Value apppended\n"
     ]
    },
    {
     "name": "stdout",
     "output_type": "stream",
     "text": [
      "Enter the 2th value for the list:  3\n"
     ]
    },
    {
     "name": "stdout",
     "output_type": "stream",
     "text": [
      "Value apppended\n",
      "List made:- \n",
      "[1, 2, 3]\n",
      "Lists are identical\n"
     ]
    }
   ],
   "source": [
    "list1:list=[]\n",
    "f=int(input(\"How many indices do you want in the list: \"))\n",
    "for i in range(f):\n",
    "    L=int(input(f\"Enter the {i}th value for the list: \"))\n",
    "    list1.append(L)\n",
    "    print(\"Value apppended\")\n",
    "print(\"List made:- \")\n",
    "print(list1)\n",
    "list2:list=[]\n",
    "f=int(input(\"How many indices do you want in the list: \"))\n",
    "for i in range(f):\n",
    "    L=int(input(f\"Enter the {i}th value for the list: \"))\n",
    "    list2.append(L)\n",
    "    print(\"Value apppended\")\n",
    "print(\"List made:- \")\n",
    "print(list2)\n",
    "if list1==list2:\n",
    "    print(\"Lists are identical\")\n",
    "else:\n",
    "    print(\"Lists are different\")"
   ]
  },
  {
   "cell_type": "code",
   "execution_count": 3,
   "id": "701e5528-153e-4e23-8603-2275e9b7441e",
   "metadata": {},
   "outputs": [
    {
     "name": "stdout",
     "output_type": "stream",
     "text": [
      "Enter a string you want to check if it's a Palindrome:  Never odd or even\n"
     ]
    },
    {
     "name": "stdout",
     "output_type": "stream",
     "text": [
      "neveroddoreven\n",
      "Palindrome\n"
     ]
    }
   ],
   "source": [
    "def Palindrome_Checker(in_string:str):\n",
    "    clean_string:str= in_string.replace(\" \",\"\").lower()\n",
    "    print(clean_string)\n",
    "    if clean_string == clean_string[::-1]:\n",
    "        print(\"Palindrome\")\n",
    "    else:\n",
    "        print(\"Not a Palindrome\")\n",
    "        \n",
    "#main\n",
    "s:str=input(\"Enter a string you want to check if it's a Palindrome: \")\n",
    "Palindrome_Checker(s)"
   ]
  },
  {
   "cell_type": "code",
   "execution_count": 93,
   "id": "2d9aeba5-a830-43cc-991d-54fafa8ae81b",
   "metadata": {},
   "outputs": [
    {
     "name": "stdout",
     "output_type": "stream",
     "text": [
      "Enter A String:  Mera Naam Namak Hai\n"
     ]
    },
    {
     "name": "stdout",
     "output_type": "stream",
     "text": [
      "Lots Of Vowels\n"
     ]
    }
   ],
   "source": [
    "#16\n",
    "x=input(\"Enter A String: \")\n",
    "count:int=0\n",
    "vowels=[\"a\",\"e\",\"i\",\"o\",\"u\",\"A\",\"E\",\"I\",\"O\",\"U\"]\n",
    "for i in range(len(x)):\n",
    "    if x[i] in vowels:\n",
    "        count = count + 1\n",
    "    else:\n",
    "        continue\n",
    "if count>5:\n",
    "    print(\"Lots Of Vowels\")\n",
    "else:\n",
    "    print(\"Few Vowels\")"
   ]
  },
  {
   "cell_type": "code",
   "execution_count": 101,
   "id": "9221634d-3cda-461b-bffb-013924e07dab",
   "metadata": {},
   "outputs": [
    {
     "name": "stdout",
     "output_type": "stream",
     "text": [
      "Enter a String Aye Aye Captain!\n"
     ]
    },
    {
     "data": {
      "text/plain": [
       "'Starts with a vowel'"
      ]
     },
     "execution_count": 101,
     "metadata": {},
     "output_type": "execute_result"
    }
   ],
   "source": [
    "def starts_With_Vowel(string):\n",
    "    if string[0] in vowels:\n",
    "        return \"Starts with a vowel\"\n",
    "    else:\n",
    "        return \"Does Not Start With A Vowel\"\n",
    "string:str=input(\"Enter a String\")\n",
    "vowels=[\"a\",\"e\",\"i\",\"o\",\"u\",\"A\",\"E\",\"I\",\"O\",\"U\"]\n",
    "starts_With_Vowel(string)"
   ]
  },
  {
   "cell_type": "code",
   "execution_count": 6,
   "id": "ce13b5f2-319e-4465-bb74-0add1ff67573",
   "metadata": {},
   "outputs": [
    {
     "name": "stdout",
     "output_type": "stream",
     "text": [
      "Enter the first string:  Dictionary\n"
     ]
    },
    {
     "name": "stdout",
     "output_type": "stream",
     "text": [
      "dictionary\n"
     ]
    },
    {
     "name": "stdout",
     "output_type": "stream",
     "text": [
      "Enter the second string:  Indicatory\n"
     ]
    },
    {
     "name": "stdout",
     "output_type": "stream",
     "text": [
      "indicatory\n",
      "Anagrams\n"
     ]
    }
   ],
   "source": [
    "#Take two strings as input. If they contain the same characters in a different order, print \"Anagrams\", otherwise print \"Not anagrams\". \n",
    "s1:str=input(\"Enter the first string: \")\n",
    "s1=s1.lower()\n",
    "s1=s1.replace(\" \", \"\")\n",
    "print(s1)\n",
    "s2:str=input(\"Enter the second string: \")\n",
    "s2=s2.lower()\n",
    "s2=s2.replace(\" \", \"\")\n",
    "print(s2)\n",
    "\n",
    "if sorted(s1)==sorted(s2):\n",
    "    print(\"Anagrams\")\n",
    "else:\n",
    "    print(\"Not Anagrams\")"
   ]
  },
  {
   "cell_type": "code",
   "execution_count": 1,
   "id": "13f7ef08-b9a5-40b8-8d43-1c0db17a1b5f",
   "metadata": {},
   "outputs": [
    {
     "name": "stdout",
     "output_type": "stream",
     "text": [
      "Please Enter Your Password:  MaulikGupta123\n"
     ]
    },
    {
     "name": "stdout",
     "output_type": "stream",
     "text": [
      "Strong Password\n"
     ]
    }
   ],
   "source": [
    "#19\n",
    "import string\n",
    "def pass_strenght_checker(pword):\n",
    "    if len(pword)<6:\n",
    "        print(\"Weak Password\")\n",
    "    elif (any(c.islower() for c in pword) or any(c.isupper() for c in pword)) and any(c.isdigit() for c in pword):\n",
    "        print(\"Strong Password\")\n",
    "    else:\n",
    "        print(\"Moderate Password\")\n",
    "password:str=input(\"Please Enter Your Password: \")\n",
    "pass_strenght_checker(password)"
   ]
  }
 ],
 "metadata": {
  "kernelspec": {
   "display_name": "Python 3 (ipykernel)",
   "language": "python",
   "name": "python3"
  },
  "language_info": {
   "codemirror_mode": {
    "name": "ipython",
    "version": 3
   },
   "file_extension": ".py",
   "mimetype": "text/x-python",
   "name": "python",
   "nbconvert_exporter": "python",
   "pygments_lexer": "ipython3",
   "version": "3.12.7"
  }
 },
 "nbformat": 4,
 "nbformat_minor": 5
}
