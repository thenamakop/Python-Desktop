{
 "cells": [
  {
   "cell_type": "code",
   "execution_count": null,
   "id": "97618609-83f2-4c8c-88ce-4f6caa32f4cf",
   "metadata": {},
   "outputs": [],
   "source": [
    "x:"
   ]
  },
  {
   "cell_type": "code",
   "execution_count": 3,
   "id": "9d2e304c-bc8a-4a83-a1a5-87d69486126e",
   "metadata": {},
   "outputs": [
    {
     "name": "stdout",
     "output_type": "stream",
     "text": [
      "[10, 20, 30, 40, 50, 60, 70, 80, 90]\n",
      "[10, 20, 100, 40, 50, 60, 70, 80, 90]\n",
      "[10, 20, 100, 40, 60, 70, 80, 90]\n"
     ]
    }
   ],
   "source": [
    "x:list=[10,20,30,40,50,60,70,80,90]\n",
    "print(x)\n",
    "x[2]=100\n",
    "print(x)\n",
    "x.remove(50)\n",
    "print(x)"
   ]
  },
  {
   "cell_type": "code",
   "execution_count": 25,
   "id": "3a358dd8-a6de-473f-85d8-a016e06fd899",
   "metadata": {},
   "outputs": [
    {
     "name": "stdout",
     "output_type": "stream",
     "text": [
      "['Mustang', 'Scorpio', 'Bolero', 'Tata Punch', 'Tesla', 'GTR']\n",
      "['Mustang', 'Scorpio', 'Bolero', 'Tata Punch', 'Tesla']\n",
      "Tata Punch Found  3\n"
     ]
    }
   ],
   "source": [
    "Cars:list=[\"Mustang\", \"Scorpio\", \"Bolero\", \"Tata Punch\", \"Tesla\", \"GTR\"]\n",
    "print(Cars)\n",
    "index:int=len(Cars)-1\n",
    "Cars.pop(index)\n",
    "print(Cars)\n",
    "string=\"Tata Punch\"\n",
    "if string in Cars:\n",
    "    print(\"Tata Punch Found at \",Cars.index(string))"
   ]
  },
  {
   "cell_type": "code",
   "execution_count": 29,
   "id": "5b4c29a8-aa88-4d6c-8f8b-9c09eabb144c",
   "metadata": {},
   "outputs": [
    {
     "name": "stdout",
     "output_type": "stream",
     "text": [
      "[10, 20, 40, 70, 60, 50]\n",
      "[50, 60, 70, 40, 20, 10]\n",
      "[10, 20, 40, 50, 60, 70]\n"
     ]
    }
   ],
   "source": [
    "orig_list:list=[10,20,40,70,60,50]\n",
    "print(orig_list)\n",
    "reversed_list:list=orig_list\n",
    "reversed_list.reverse()\n",
    "print(reversed_list)\n",
    "sorted_list:list=orig_list\n",
    "sorted_list.sort()\n",
    "print(sorted_list)"
   ]
  },
  {
   "cell_type": "code",
   "execution_count": 37,
   "id": "ee2ba61a-b3af-4a5f-bb61-389498b6a2ef",
   "metadata": {},
   "outputs": [
    {
     "name": "stdout",
     "output_type": "stream",
     "text": [
      "[1, 2, 3, 4, 5, 6, 7, 8, 9, 10, 1, 2, 3, 4, 5, 6, 7, 8, 9, 10, 1, 2, 3, 4, 5, 6, 7, 8, 9, 10]\n"
     ]
    }
   ],
   "source": [
    "def Concatenate_Lists(List1, List2):\n",
    "    New_List:list= List1+List2\n",
    "    print(New_List*3)\n",
    "First:list=[1,2,3,4,5]\n",
    "Second:list=[6,7,8,9,10]\n",
    "Concatenate_Lists(First, Second)"
   ]
  },
  {
   "cell_type": "code",
   "execution_count": 39,
   "id": "e8db3e93-b2d5-4348-9dd7-c4d5f557e1b6",
   "metadata": {},
   "outputs": [
    {
     "name": "stdin",
     "output_type": "stream",
     "text": [
      "Enter A String:  Maulik Gupta\n"
     ]
    },
    {
     "data": {
      "text/plain": [
       "('MAULIK GUPTA', 'maulik gupta')"
      ]
     },
     "execution_count": 39,
     "metadata": {},
     "output_type": "execute_result"
    }
   ],
   "source": [
    "def String_Case_Changer(string):\n",
    "    upper:string=string.upper()\n",
    "    lower:string=string.lower()\n",
    "    return upper, lower\n",
    "x:string=input(\"Enter A String: \")\n",
    "String_Case_Changer(x)"
   ]
  },
  {
   "cell_type": "code",
   "execution_count": 43,
   "id": "9e67d793-9d84-4e0c-8e6f-97ed3cd89d19",
   "metadata": {},
   "outputs": [
    {
     "name": "stdout",
     "output_type": "stream",
     "text": [
      "Hi,world! Hi, Python!\n",
      "14 is the position of Python in the modified string\n"
     ]
    }
   ],
   "source": [
    "string:str=\"Hello,world! Hello, Python!\"\n",
    "new=string.replace(\"Hello\", \"Hi\")\n",
    "print(new)\n",
    "x:int=new.index(\"Python\")\n",
    "print(f\"{x} is the position of Python in the modified string\")"
   ]
  },
  {
   "cell_type": "code",
   "execution_count": 45,
   "id": "88267551-0d51-4e0c-9d17-cecf8363c288",
   "metadata": {},
   "outputs": [
    {
     "name": "stdout",
     "output_type": "stream",
     "text": [
      "['Welcome', 'To', 'The', 'Jungle']\n",
      "Welcome-To-The-Jungle\n"
     ]
    }
   ],
   "source": [
    "txt:str=\"Welcome To The Jungle\"\n",
    "x=txt.split()\n",
    "print(x)\n",
    "print(\"-\".join(x))"
   ]
  },
  {
   "cell_type": "code",
   "execution_count": 47,
   "id": "89deb17b-5af2-45da-b0b6-b105f7015a75",
   "metadata": {},
   "outputs": [
    {
     "name": "stdout",
     "output_type": "stream",
     "text": [
      "[1, 2, 3, 4, 5, 6, 7, 8, 9, 10, 1, 2, 3, 4, 5, 6, 7, 8, 9, 10, 1, 2, 3, 4, 5, 6, 7, 8, 9, 10, 1, 2, 3, 4, 5, 6, 7, 8, 9, 10]\n"
     ]
    }
   ],
   "source": [
    "def Concatenate_Lists(List1, List2):\n",
    "    New_List:list= List1+List2\n",
    "    print(New_List*4)\n",
    "First:list=[1,2,3,4,5]\n",
    "Second:list=[6,7,8,9,10]\n",
    "Concatenate_Lists(First, Second)"
   ]
  },
  {
   "cell_type": "code",
   "execution_count": 57,
   "id": "666f28a1-54b8-439c-90f1-f5adba958054",
   "metadata": {},
   "outputs": [
    {
     "name": "stdout",
     "output_type": "stream",
     "text": [
      "Python \n",
      " Programming\n",
      "PtoPormig\n"
     ]
    }
   ],
   "source": [
    "string=\"PythonProgramming\"\n",
    "sub1:str=string[:6]\n",
    "sub2:str=string[6:]\n",
    "\n",
    "print(sub1,\"\\n\",sub2)\n",
    "\n",
    "alternate:str=string[::2]\n",
    "print(alternate)"
   ]
  },
  {
   "cell_type": "code",
   "execution_count": 63,
   "id": "bc5141e1-ca40-4441-87e1-304967054b19",
   "metadata": {},
   "outputs": [
    {
     "name": "stdin",
     "output_type": "stream",
     "text": [
      "How many indices do you want in the list:  5\n",
      "Enter the 0th value for the list:  1\n"
     ]
    },
    {
     "name": "stdout",
     "output_type": "stream",
     "text": [
      "Value apppended\n"
     ]
    },
    {
     "name": "stdin",
     "output_type": "stream",
     "text": [
      "Enter the 1th value for the list:  2\n"
     ]
    },
    {
     "name": "stdout",
     "output_type": "stream",
     "text": [
      "Value apppended\n"
     ]
    },
    {
     "name": "stdin",
     "output_type": "stream",
     "text": [
      "Enter the 2th value for the list:  3\n"
     ]
    },
    {
     "name": "stdout",
     "output_type": "stream",
     "text": [
      "Value apppended\n"
     ]
    },
    {
     "name": "stdin",
     "output_type": "stream",
     "text": [
      "Enter the 3th value for the list:  3\n"
     ]
    },
    {
     "name": "stdout",
     "output_type": "stream",
     "text": [
      "Value apppended\n"
     ]
    },
    {
     "name": "stdin",
     "output_type": "stream",
     "text": [
      "Enter the 4th value for the list:  4\n"
     ]
    },
    {
     "name": "stdout",
     "output_type": "stream",
     "text": [
      "Value apppended\n"
     ]
    },
    {
     "name": "stdin",
     "output_type": "stream",
     "text": [
      "Enter the number you want to find 3\n"
     ]
    },
    {
     "name": "stdout",
     "output_type": "stream",
     "text": [
      "Number Found\n"
     ]
    }
   ],
   "source": [
    "x:list=[]\n",
    "f=int(input(\"How many indices do you want in the list: \"))\n",
    "for i in range(f):\n",
    "    L=int(input(f\"Enter the {i}th value for the list: \"))\n",
    "    x.append(L)\n",
    "    print(\"Value apppended\")\n",
    "number_to_find:int=int(input(\"Enter the number you want to find\"))\n",
    "checker:bool\n",
    "for i in range(len(x)):\n",
    "    if x[i]==number_to_find:\n",
    "        checker=True\n",
    "        if checker:\n",
    "            break\n",
    "    else:\n",
    "        checker=False\n",
    "if checker:\n",
    "    print(\"Number Found\")\n",
    "else:\n",
    "    print(\"Number Not Found\")"
   ]
  },
  {
   "cell_type": "code",
   "execution_count": 73,
   "id": "906d6a3d-4f40-4456-b0ac-55b3779d6818",
   "metadata": {},
   "outputs": [
    {
     "data": {
      "text/plain": [
       "'List Is Empty'"
      ]
     },
     "execution_count": 73,
     "metadata": {},
     "output_type": "execute_result"
    }
   ],
   "source": [
    "def list_empty_checker(list):\n",
    "    if list:\n",
    "        return \"List Has Elements\"\n",
    "    else:\n",
    "        return \"List Is Empty\"\n",
    "lst:list=[]\n",
    "list_empty_checker(lst)"
   ]
  },
  {
   "cell_type": "code",
   "execution_count": 83,
   "id": "a826e770-0b65-47e6-a3a4-b1480910e21f",
   "metadata": {},
   "outputs": [
    {
     "name": "stdin",
     "output_type": "stream",
     "text": [
      "How many indices do you want in the list:  3\n",
      "Enter the 0th value for the list:  12\n"
     ]
    },
    {
     "name": "stdout",
     "output_type": "stream",
     "text": [
      "Value apppended\n"
     ]
    },
    {
     "name": "stdin",
     "output_type": "stream",
     "text": [
      "Enter the 1th value for the list:  3\n"
     ]
    },
    {
     "name": "stdout",
     "output_type": "stream",
     "text": [
      "Value apppended\n"
     ]
    },
    {
     "name": "stdin",
     "output_type": "stream",
     "text": [
      "Enter the 2th value for the list:  14\n"
     ]
    },
    {
     "name": "stdout",
     "output_type": "stream",
     "text": [
      "Value apppended\n",
      "List made \n",
      " x\n"
     ]
    },
    {
     "ename": "IndexError",
     "evalue": "list index out of range",
     "output_type": "error",
     "traceback": [
      "\u001b[1;31m---------------------------------------------------------------------------\u001b[0m",
      "\u001b[1;31mIndexError\u001b[0m                                Traceback (most recent call last)",
      "Cell \u001b[1;32mIn[83], line 10\u001b[0m\n\u001b[0;32m      8\u001b[0m length:\u001b[38;5;28mint\u001b[39m\u001b[38;5;241m=\u001b[39m\u001b[38;5;28mlen\u001b[39m(x)\n\u001b[0;32m      9\u001b[0m \u001b[38;5;28;01mfor\u001b[39;00m i \u001b[38;5;129;01min\u001b[39;00m \u001b[38;5;28mrange\u001b[39m(length):\n\u001b[1;32m---> 10\u001b[0m     \u001b[38;5;28;01mif\u001b[39;00m (x[i]\u001b[38;5;241m%\u001b[39m\u001b[38;5;241m2\u001b[39m)\u001b[38;5;241m==\u001b[39m\u001b[38;5;241m0\u001b[39m:\n\u001b[0;32m     11\u001b[0m         x\u001b[38;5;241m.\u001b[39mpop(i)\n\u001b[0;32m     12\u001b[0m         length\u001b[38;5;241m=\u001b[39mlength\u001b[38;5;241m-\u001b[39m\u001b[38;5;241m1\u001b[39m\n",
      "\u001b[1;31mIndexError\u001b[0m: list index out of range"
     ]
    }
   ],
   "source": [
    "x:list=[]\n",
    "f=int(input(\"How many indices do you want in the list: \"))\n",
    "for i in range(f):\n",
    "    L=int(input(f\"Enter the {i}th value for the list: \"))\n",
    "    x.append(L)\n",
    "    print(\"Value apppended\")\n",
    "print(\"List made \\n \",x)\n",
    "length:int=len(x)\n",
    "for i in range(length):\n",
    "    if (x[i]%2)==0:\n",
    "        x.pop(i)\n",
    "        length=length-1\n",
    "    else:\n",
    "        continue\n",
    "print(\"All Even Nums removed\")\n",
    "print(x)"
   ]
  },
  {
   "cell_type": "code",
   "execution_count": 93,
   "id": "2d9aeba5-a830-43cc-991d-54fafa8ae81b",
   "metadata": {},
   "outputs": [
    {
     "name": "stdin",
     "output_type": "stream",
     "text": [
      "Enter A String:  Mera Naam Namak Hai\n"
     ]
    },
    {
     "name": "stdout",
     "output_type": "stream",
     "text": [
      "Lots Of Vowels\n"
     ]
    }
   ],
   "source": [
    "#16\n",
    "x=input(\"Enter A String: \")\n",
    "count:int=0\n",
    "vowels=[\"a\",\"e\",\"i\",\"o\",\"u\",\"A\",\"E\",\"I\",\"O\",\"U\"]\n",
    "for i in range(len(x)):\n",
    "    if x[i] in vowels:\n",
    "        count = count + 1\n",
    "    else:\n",
    "        continue\n",
    "if count>5:\n",
    "    print(\"Lots Of Vowels\")\n",
    "else:\n",
    "    print(\"Few Vowels\")"
   ]
  },
  {
   "cell_type": "code",
   "execution_count": 101,
   "id": "9221634d-3cda-461b-bffb-013924e07dab",
   "metadata": {},
   "outputs": [
    {
     "name": "stdin",
     "output_type": "stream",
     "text": [
      "Enter a String Aye Aye Captain!\n"
     ]
    },
    {
     "data": {
      "text/plain": [
       "'Starts with a vowel'"
      ]
     },
     "execution_count": 101,
     "metadata": {},
     "output_type": "execute_result"
    }
   ],
   "source": [
    "def starts_With_Vowel(string):\n",
    "    if string[0] in vowels:\n",
    "        return \"Starts with a vowel\"\n",
    "    else:\n",
    "        return \"Does Not Start With A Vowel\"\n",
    "string:str=input(\"Enter a String\")\n",
    "vowels=[\"a\",\"e\",\"i\",\"o\",\"u\",\"A\",\"E\",\"I\",\"O\",\"U\"]\n",
    "starts_With_Vowel(string)"
   ]
  },
  {
   "cell_type": "code",
   "execution_count": 109,
   "id": "13f7ef08-b9a5-40b8-8d43-1c0db17a1b5f",
   "metadata": {},
   "outputs": [
    {
     "name": "stdin",
     "output_type": "stream",
     "text": [
      "Please Enter Your Password:  Maulik123\n"
     ]
    },
    {
     "ename": "AttributeError",
     "evalue": "'str' object has no attribute 'ascii_lowercase'",
     "output_type": "error",
     "traceback": [
      "\u001b[1;31m---------------------------------------------------------------------------\u001b[0m",
      "\u001b[1;31mAttributeError\u001b[0m                            Traceback (most recent call last)",
      "Cell \u001b[1;32mIn[109], line 12\u001b[0m\n\u001b[0;32m     10\u001b[0m         \u001b[38;5;28mprint\u001b[39m(\u001b[38;5;124m\"\u001b[39m\u001b[38;5;124mModerate Password\u001b[39m\u001b[38;5;124m\"\u001b[39m)\n\u001b[0;32m     11\u001b[0m password:\u001b[38;5;28mstr\u001b[39m\u001b[38;5;241m=\u001b[39m\u001b[38;5;28minput\u001b[39m(\u001b[38;5;124m\"\u001b[39m\u001b[38;5;124mPlease Enter Your Password: \u001b[39m\u001b[38;5;124m\"\u001b[39m)\n\u001b[1;32m---> 12\u001b[0m pass_strenght_checker(password)\n",
      "Cell \u001b[1;32mIn[109], line 7\u001b[0m, in \u001b[0;36mpass_strenght_checker\u001b[1;34m(pword)\u001b[0m\n\u001b[0;32m      5\u001b[0m \u001b[38;5;28;01mif\u001b[39;00m \u001b[38;5;28mlen\u001b[39m(pword)\u001b[38;5;241m<\u001b[39m\u001b[38;5;241m6\u001b[39m:\n\u001b[0;32m      6\u001b[0m     \u001b[38;5;28mprint\u001b[39m(\u001b[38;5;124m\"\u001b[39m\u001b[38;5;124mWeak Password\u001b[39m\u001b[38;5;124m\"\u001b[39m)\n\u001b[1;32m----> 7\u001b[0m \u001b[38;5;28;01melif\u001b[39;00m (pword\u001b[38;5;241m.\u001b[39mascii_lowercase \u001b[38;5;129;01mor\u001b[39;00m pword\u001b[38;5;241m.\u001b[39mascii_uppercase) \u001b[38;5;129;01mand\u001b[39;00m numbers \u001b[38;5;129;01min\u001b[39;00m pword:\n\u001b[0;32m      8\u001b[0m     \u001b[38;5;28mprint\u001b[39m(\u001b[38;5;124m\"\u001b[39m\u001b[38;5;124mStrong Password\u001b[39m\u001b[38;5;124m\"\u001b[39m)\n\u001b[0;32m      9\u001b[0m \u001b[38;5;28;01melse\u001b[39;00m:\n",
      "\u001b[1;31mAttributeError\u001b[0m: 'str' object has no attribute 'ascii_lowercase'"
     ]
    }
   ],
   "source": [
    "#19\n",
    "import string\n",
    "numbers=[1,2,3,4,5,6,7,8,9,0]\n",
    "def pass_strenght_checker(pword):\n",
    "    if len(pword)<6:\n",
    "        print(\"Weak Password\")\n",
    "    elif (pword.ascii_lowercase or pword.ascii_uppercase) and numbers in pword:\n",
    "        print(\"Strong Password\")\n",
    "    else:\n",
    "        print(\"Moderate Password\")\n",
    "password:str=input(\"Please Enter Your Password: \")\n",
    "pass_strenght_checker(password)"
   ]
  },
  {
   "cell_type": "code",
   "execution_count": null,
   "id": "5cb9360a-bc3c-4768-af4a-6a06959084a8",
   "metadata": {},
   "outputs": [],
   "source": []
  }
 ],
 "metadata": {
  "kernelspec": {
   "display_name": "Python [conda env:base] *",
   "language": "python",
   "name": "conda-base-py"
  },
  "language_info": {
   "codemirror_mode": {
    "name": "ipython",
    "version": 3
   },
   "file_extension": ".py",
   "mimetype": "text/x-python",
   "name": "python",
   "nbconvert_exporter": "python",
   "pygments_lexer": "ipython3",
   "version": "3.12.7"
  }
 },
 "nbformat": 4,
 "nbformat_minor": 5
}
