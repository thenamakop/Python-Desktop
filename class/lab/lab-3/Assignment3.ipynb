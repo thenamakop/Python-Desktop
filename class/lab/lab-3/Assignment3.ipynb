{
 "cells": [
  {
   "cell_type": "code",
   "execution_count": null,
   "metadata": {},
   "outputs": [
    {
     "name": "stdout",
     "output_type": "stream",
     "text": [
      "[10, 20, 30, 40, 50] <class 'list'>\n",
      "(10, 20, 30, 40, 50) <class 'tuple'>\n",
      "{40, 10, 50, 20, 30} <class 'set'>\n"
     ]
    }
   ],
   "source": [
    "#1\n",
    "x:list=[10,20,30,40,50]\n",
    "print(x,type(x))\n",
    "x=tuple(x)\n",
    "print(x,type(x))\n",
    "x=set(x)\n",
    "print(x,type(x))\n"
   ]
  },
  {
   "cell_type": "code",
   "execution_count": null,
   "metadata": {},
   "outputs": [],
   "source": [
    "#2\n"
   ]
  },
  {
   "cell_type": "code",
   "execution_count": 3,
   "metadata": {},
   "outputs": [
    {
     "name": "stdout",
     "output_type": "stream",
     "text": [
      "[10, 20, 20, 30, 40, 40, 50] <class 'list'>\n",
      "{40, 10, 50, 20, 30} <class 'set'>\n",
      "[10, 20, 30, 40, 50] <class 'list'>\n"
     ]
    }
   ],
   "source": [
    "#3\n",
    "x:list=[10,20,20,30,40,40,50]\n",
    "print(x,type(x))\n",
    "x=set(x)\n",
    "print(x,type(x))\n",
    "x=list(x)\n",
    "x=sorted(x)\n",
    "print(x,type(x))"
   ]
  },
  {
   "cell_type": "code",
   "execution_count": null,
   "metadata": {},
   "outputs": [],
   "source": [
    "#4"
   ]
  },
  {
   "cell_type": "code",
   "execution_count": 4,
   "metadata": {},
   "outputs": [
    {
     "name": "stdout",
     "output_type": "stream",
     "text": [
      "Hello There\n",
      "['H', 'e', 'l', 'l', 'o', ' ', 'T', 'h', 'e', 'r', 'e'] <class 'list'>\n",
      "('H', 'e', 'l', 'l', 'o', ' ', 'T', 'h', 'e', 'r', 'e') <class 'tuple'>\n",
      "{' ', 'H', 'o', 'e', 'l', 'T', 'h', 'r'} <class 'set'>\n"
     ]
    }
   ],
   "source": [
    "#5\n",
    "x:str=input(\"Enter A String: \")\n",
    "print(x)\n",
    "x=list(x)\n",
    "print(x,type(x))\n",
    "x=tuple(x)\n",
    "print(x,type(x))\n",
    "x=set(x)\n",
    "print(x,type(x))"
   ]
  },
  {
   "cell_type": "code",
   "execution_count": 7,
   "metadata": {},
   "outputs": [
    {
     "name": "stdout",
     "output_type": "stream",
     "text": [
      "[10, 20, 30, 40, 50] \n",
      " [30, 40, 50, 60, 70]\n",
      "[10, 20, 30, 40, 50, 30, 40, 50, 60, 70] <class 'list'>\n",
      "{70, 40, 10, 50, 20, 60, 30} <class 'set'>\n",
      "[10, 20, 30, 40, 50, 60, 70] <class 'list'>\n"
     ]
    }
   ],
   "source": [
    "#6\n",
    "l1:list=[10,20,30,40,50]\n",
    "l2:list=[30,40,50,60,70]\n",
    "print(l1,\"\\n\",l2)\n",
    "l1.extend(l2)\n",
    "print(l1,type(l1))\n",
    "l1=set(l1)\n",
    "print(l1,type(l1))\n",
    "l1=list(l1)\n",
    "l1=sorted(l1)\n",
    "print(l1,type(l1))"
   ]
  },
  {
   "cell_type": "code",
   "execution_count": null,
   "metadata": {},
   "outputs": [],
   "source": [
    "#7"
   ]
  }
 ],
 "metadata": {
  "kernelspec": {
   "display_name": "Python 3",
   "language": "python",
   "name": "python3"
  },
  "language_info": {
   "codemirror_mode": {
    "name": "ipython",
    "version": 3
   },
   "file_extension": ".py",
   "mimetype": "text/x-python",
   "name": "python",
   "nbconvert_exporter": "python",
   "pygments_lexer": "ipython3",
   "version": "3.13.1"
  }
 },
 "nbformat": 4,
 "nbformat_minor": 2
}
