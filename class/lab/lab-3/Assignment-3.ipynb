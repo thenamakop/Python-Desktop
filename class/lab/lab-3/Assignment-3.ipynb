{
 "cells": [
  {
   "cell_type": "markdown",
   "id": "1ec3365e-df36-4aff-b4f5-8f6a032bac4b",
   "metadata": {},
   "source": [
    "## Convert a List to a Tuple and Then to a Set"
   ]
  },
  {
   "cell_type": "code",
   "execution_count": 3,
   "id": "54e68d2a-4f87-4535-859c-01f1975decde",
   "metadata": {},
   "outputs": [
    {
     "name": "stdout",
     "output_type": "stream",
     "text": [
      "(1, 2, 3, 4, 5)\n",
      "{1, 2, 3, 4, 5}\n"
     ]
    }
   ],
   "source": [
    "list1=[1,2,3,4,5]\n",
    "a=tuple(list1)\n",
    "b=set(list1)\n",
    "print(a)\n",
    "print(b)"
   ]
  },
  {
   "cell_type": "markdown",
   "id": "2465aa1b-7f0f-4e58-8036-b1fb9040f2ac",
   "metadata": {},
   "source": [
    "## Find Common Elements Between List and Tuple Using a Set"
   ]
  },
  {
   "cell_type": "code",
   "execution_count": 10,
   "id": "4558c5c9-48ed-4772-81e8-b722120b6953",
   "metadata": {},
   "outputs": [
    {
     "name": "stdout",
     "output_type": "stream",
     "text": [
      "{2, 3, 4, 5}\n"
     ]
    }
   ],
   "source": [
    "a=[1,2,3,4,5,6,7,8,9]\n",
    "b=[2,3,4,5]\n",
    "c=set(a) & set(b)\n",
    "print(c)\n"
   ]
  },
  {
   "cell_type": "markdown",
   "id": "25e0e68b-21d8-4393-bc69-0efa4518d6a6",
   "metadata": {},
   "source": [
    "## Remove Duplicates from a List Using a Set and Convert Back to a List"
   ]
  },
  {
   "cell_type": "code",
   "execution_count": 13,
   "id": "adaff607-904f-4830-9cc0-5cd521eddf4e",
   "metadata": {},
   "outputs": [
    {
     "name": "stdout",
     "output_type": "stream",
     "text": [
      "[1, 2, 3, 4, 5, 6, 7, 8, 9]\n"
     ]
    }
   ],
   "source": [
    "a=[1,2,3,4,5,6,6,7,8,8,9]\n",
    "a=list(set(a))\n",
    "print(a)"
   ]
  },
  {
   "cell_type": "markdown",
   "id": "c570ae77-f154-4d5c-b755-dbd79c31aeef",
   "metadata": {},
   "source": [
    "## Find Elements in a Tuple That Are Not in a List Using a Set"
   ]
  },
  {
   "cell_type": "code",
   "execution_count": 16,
   "id": "63e71827-8f42-48fe-bcb3-dbd6e545466c",
   "metadata": {},
   "outputs": [
    {
     "name": "stdout",
     "output_type": "stream",
     "text": [
      "{2, 3, 5, 6, 8}\n"
     ]
    }
   ],
   "source": [
    "tup=(1,2,3,4,5,6,7,8,9)\n",
    "lis=[1,4,7,9]\n",
    "a=set(tup)\n",
    "b=set(lis)\n",
    "print(a-b)"
   ]
  },
  {
   "cell_type": "markdown",
   "id": "e4290801-8220-4535-b01a-98fb61c699ec",
   "metadata": {},
   "source": [
    "## Convert a String to a List, Then a Tuple, and Finally a Set\n"
   ]
  },
  {
   "cell_type": "code",
   "execution_count": 21,
   "id": "c794f3fc-a96d-4343-bc59-8ef21b2b665a",
   "metadata": {},
   "outputs": [
    {
     "name": "stdout",
     "output_type": "stream",
     "text": [
      "<class 'list'>\n"
     ]
    }
   ],
   "source": [
    "st=\"parikshit\"\n",
    "a=list(st)\n",
    "b=tuple(st)\n",
    "c=set(st)\n",
    "print(type(a))"
   ]
  },
  {
   "cell_type": "markdown",
   "id": "7f3a4538-34b5-4deb-8c35-f8a7f9757d8a",
   "metadata": {},
   "source": [
    "## Merge Two Lists, convert to a Set to Remove Duplicates, and Convert Back to a List"
   ]
  },
  {
   "cell_type": "code",
   "execution_count": 24,
   "id": "a1645448-41a3-4b4d-af5b-fb003442560f",
   "metadata": {},
   "outputs": [
    {
     "name": "stdout",
     "output_type": "stream",
     "text": [
      "[1, 2, 3, 4, 5, 6, 7, 8, 9, 10, 11]\n"
     ]
    }
   ],
   "source": [
    "list1=[1,2,3,4,5,6,7]\n",
    "list2=[1,2,3,8,9,10,11]\n",
    "list3=list1+list2\n",
    "a=set(list3)\n",
    "list3=list(a)\n",
    "print(list3)\n",
    "\n"
   ]
  },
  {
   "cell_type": "markdown",
   "id": "e72135f5-898d-4222-b420-0e4db7f54303",
   "metadata": {},
   "source": [
    "## Create a List of Tuples from Two Lists"
   ]
  },
  {
   "cell_type": "code",
   "execution_count": 27,
   "id": "c866255f-5833-4c06-adc8-8da57c27e927",
   "metadata": {},
   "outputs": [],
   "source": [
    "list1=[1,2,3,4,5,6]\n",
    "list2=[2,3,4,5,6,7,8,9]\n",
    "list3=[tuple(list1)+tuple(list2)]\n"
   ]
  },
  {
   "cell_type": "markdown",
   "id": "a9712c3f-7e88-4b0a-a919-3840c67dadcc",
   "metadata": {},
   "source": [
    "## Extract Unique Words from a Sentence Using Sets and Store in a List"
   ]
  },
  {
   "cell_type": "code",
   "execution_count": 32,
   "id": "28781d1c-b7e0-4bdd-a534-6c411c995965",
   "metadata": {},
   "outputs": [
    {
     "name": "stdout",
     "output_type": "stream",
     "text": [
      "['a', 't', 'p', 'i', 'r', 'k', 'h', 's']\n"
     ]
    }
   ],
   "source": [
    "string1=\"parikshit\"\n",
    "a=set(string1)\n",
    "b=list(a)\n",
    "print(b)"
   ]
  },
  {
   "cell_type": "markdown",
   "id": "252928e5-2cc6-4d8c-a5f0-9793b6694c39",
   "metadata": {},
   "source": [
    "## Find the Union and Intersection of Two Lists Using Sets"
   ]
  },
  {
   "cell_type": "code",
   "execution_count": 1,
   "id": "764662f3",
   "metadata": {},
   "outputs": [
    {
     "name": "stdout",
     "output_type": "stream",
     "text": [
      "union: {1, 2, 3, 4, 5, 6, 7, 8, 9}\n",
      "intersection {1, 2, 3, 4, 5}\n"
     ]
    }
   ],
   "source": [
    "list1=[1,2,3,4,5]\n",
    "list2=[1,2,3,4,5,6,7,8,9]\n",
    "a=set(list1)\n",
    "b=set(list2)\n",
    "print(\"union:\",a|b)\n",
    "print(\"intersection\",a&b)"
   ]
  },
  {
   "cell_type": "markdown",
   "id": "f140c67d-a96c-4514-8c2d-02925b0ceb00",
   "metadata": {},
   "source": [
    "## Sort a List, convert to a Tuple, and Find Unique Elements Using a Set"
   ]
  },
  {
   "cell_type": "code",
   "execution_count": 41,
   "id": "bc1f6c3e-073a-4ba3-a582-80a8f6cebe0a",
   "metadata": {},
   "outputs": [
    {
     "name": "stdout",
     "output_type": "stream",
     "text": [
      "(1, 2, 4, 5, 7, 8)\n",
      "{1, 2, 4, 5, 7, 8}\n"
     ]
    }
   ],
   "source": [
    "list1=[2,5,1,8,4,7]\n",
    "b=tuple(sorted(list1))\n",
    "print(b)\n",
    "c=set(b)\n",
    "print(c)"
   ]
  },
  {
   "cell_type": "markdown",
   "id": "773d3f65-a1ef-4d62-a22c-bd6ab535c398",
   "metadata": {},
   "source": [
    "## Sort a List of Tuples Based on the Second Element and Remove Duplicates"
   ]
  },
  {
   "cell_type": "code",
   "execution_count": 2,
   "id": "0eea0de5-4834-4d37-9527-07b13768cafd",
   "metadata": {},
   "outputs": [
    {
     "name": "stdout",
     "output_type": "stream",
     "text": [
      "[(4, 1), (2, 2), (1, 3), (3, 3)]\n"
     ]
    }
   ],
   "source": [
    "def sort_and_deduplicate(lst):\n",
    "    sorted_list = sorted(lst, key=lambda x: x[1])\n",
    "    \n",
    "    return list(dict.fromkeys(sorted_list))\n",
    "\n",
    "original_list = [(1, 3), (2, 2), (3, 3), (2, 2), (4, 1)]\n",
    "processed_list = sort_and_deduplicate(original_list)\n",
    "print(processed_list)"
   ]
  },
  {
   "cell_type": "markdown",
   "id": "fd955d0e-ae6d-4244-9141-466b9072d149",
   "metadata": {},
   "source": [
    "## Merge Two Lists, Keep Unique Elements, and Convert to a Tuple"
   ]
  },
  {
   "cell_type": "code",
   "execution_count": 47,
   "id": "9bdcf1d4-a62a-4f41-b6c1-eaad09f95a2f",
   "metadata": {},
   "outputs": [
    {
     "name": "stdout",
     "output_type": "stream",
     "text": [
      "(1, 2, 3, 4, 5, 6, 7, 8, 9)\n"
     ]
    }
   ],
   "source": [
    "a=[1,2,3,4,5,6]\n",
    "b=[5,6,7,8,9]\n",
    "c=a+b\n",
    "d=set(c)\n",
    "print(tuple(d))"
   ]
  },
  {
   "cell_type": "markdown",
   "id": "69ff6b41-6b63-4261-9387-7ef2ad55c4a9",
   "metadata": {},
   "source": [
    "## Extract Unique Characters from a String and Store Them in a Set"
   ]
  },
  {
   "cell_type": "code",
   "execution_count": 50,
   "id": "0a4aeed3-ff4c-474f-8089-9da8aaad9ced",
   "metadata": {},
   "outputs": [
    {
     "name": "stdout",
     "output_type": "stream",
     "text": [
      "{'a', 't', 'p', 'i', 'r', 'k', 'h', 's'}\n"
     ]
    }
   ],
   "source": [
    "string1=\"parikshit\"\n",
    "a=set(string1)\n",
    "print(a)"
   ]
  },
  {
   "cell_type": "markdown",
   "id": "047b0267-f3bb-424f-ba85-0ec6ec96b70b",
   "metadata": {},
   "source": [
    "## Count Vowels and Consonants in a String"
   ]
  },
  {
   "cell_type": "code",
   "execution_count": 63,
   "id": "a43c3793-c675-442c-a4b7-8d3efb148f20",
   "metadata": {},
   "outputs": [
    {
     "name": "stdout",
     "output_type": "stream",
     "text": [
      "2\n"
     ]
    }
   ],
   "source": [
    "\n",
    "\n",
    "\n"
   ]
  },
  {
   "cell_type": "markdown",
   "id": "2f5bf9da-1512-4fe7-8d80-1820651f7474",
   "metadata": {},
   "source": [
    "## Find the Longest Word in a Tuple of Words"
   ]
  },
  {
   "cell_type": "code",
   "execution_count": 68,
   "id": "114b85e9-7022-49f0-8193-a1641dc5b2f1",
   "metadata": {},
   "outputs": [
    {
     "name": "stdout",
     "output_type": "stream",
     "text": [
      "you\n"
     ]
    }
   ],
   "source": [
    "tup=(\"hi\" ,\"how\",\"are\",\"you\")\n",
    "a=\"\"\n",
    "for i in tup:\n",
    "    for j in tup:\n",
    "        if len(i)>len(j):\n",
    "            a=i\n",
    "print(a)"
   ]
  },
  {
   "cell_type": "markdown",
   "id": "1283f07e-14f3-4e7d-b456-0ca6600cb790",
   "metadata": {},
   "source": [
    "## ## Find Common Characters in Two Strings"
   ]
  },
  {
   "cell_type": "code",
   "execution_count": 73,
   "id": "4061d15d-eff8-437c-9441-0c555467786d",
   "metadata": {},
   "outputs": [
    {
     "name": "stdout",
     "output_type": "stream",
     "text": [
      "{'a'}\n"
     ]
    }
   ],
   "source": [
    "a=\"apple\"\n",
    "b=\"banana\"\n",
    "set1=set(a)\n",
    "set2=set(b)\n",
    "c=set1&set2\n",
    "print(c)\n",
    " "
   ]
  },
  {
   "cell_type": "markdown",
   "id": "e8743e7e-7fdf-4609-8ca9-69db608e0358",
   "metadata": {},
   "source": [
    "## Find the Frequency of Each Word in a Tuple of Sentences"
   ]
  },
  {
   "cell_type": "code",
   "execution_count": null,
   "id": "2434ff39-e7ed-408b-be05-fd5d49f92a37",
   "metadata": {},
   "outputs": [],
   "source": [
    "a=(\"hi\",\"hello\",\"pari\",\"pari\")\n"
   ]
  },
  {
   "cell_type": "markdown",
   "id": "60a22eb6-8f97-4d14-bb2c-2b1099e94271",
   "metadata": {},
   "source": [
    "## Check if a Tuple Contains a Specific Word"
   ]
  },
  {
   "cell_type": "code",
   "execution_count": 85,
   "id": "0e59e0e8-ca03-464b-ac00-2964bcc2eb60",
   "metadata": {},
   "outputs": [
    {
     "name": "stdout",
     "output_type": "stream",
     "text": [
      "yes\n"
     ]
    }
   ],
   "source": [
    "t=(\"hello\",\"kya\",\"haal\",\"chaal\")\n",
    "element=\"hello\"\n",
    "if element in t:\n",
    "    print(\"yes\")\n",
    "else:\n",
    "    print(\"no\")"
   ]
  },
  {
   "cell_type": "markdown",
   "id": "d210880b-60b4-4930-b3cf-d3b64659e460",
   "metadata": {},
   "source": [
    "## Find Elements in One Set but Not in Another"
   ]
  },
  {
   "cell_type": "code",
   "execution_count": 91,
   "id": "632f6e1d-1c92-4e30-a2af-df1f4077a33b",
   "metadata": {},
   "outputs": [
    {
     "name": "stdout",
     "output_type": "stream",
     "text": [
      "{5, 7}\n"
     ]
    }
   ],
   "source": [
    "set1={1,2,3,4,5,6,7}\n",
    "set2={6,4,1,2,3}\n",
    "print(set1-set2)"
   ]
  },
  {
   "cell_type": "markdown",
   "id": "057516b4-38dd-405b-83ad-79d1b69bfef4",
   "metadata": {},
   "source": [
    "## Reverse a Tuple Using a For Loop"
   ]
  },
  {
   "cell_type": "code",
   "execution_count": 100,
   "id": "3ac15ba0-7b5f-4eda-8f46-6a220ec0e171",
   "metadata": {},
   "outputs": [
    {
     "name": "stdout",
     "output_type": "stream",
     "text": [
      "(5, 4, 3, 2, 1)\n"
     ]
    }
   ],
   "source": [
    "tup1=(1,2,3,4,5)\n",
    "a=[]\n",
    "for i in range(-1,-6,-1):\n",
    "    a.append(tup1[i])\n",
    "tup2=tuple(a)\n",
    "print(tup2)"
   ]
  },
  {
   "cell_type": "code",
   "execution_count": null,
   "id": "1d47534b-29b8-44de-bbde-f6a71da09381",
   "metadata": {},
   "outputs": [],
   "source": []
  }
 ],
 "metadata": {
  "kernelspec": {
   "display_name": "Python 3",
   "language": "python",
   "name": "python3"
  },
  "language_info": {
   "codemirror_mode": {
    "name": "ipython",
    "version": 3
   },
   "file_extension": ".py",
   "mimetype": "text/x-python",
   "name": "python",
   "nbconvert_exporter": "python",
   "pygments_lexer": "ipython3",
   "version": "3.13.1"
  }
 },
 "nbformat": 4,
 "nbformat_minor": 5
}
